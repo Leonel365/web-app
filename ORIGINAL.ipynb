{
 "cells": [
  {
   "cell_type": "markdown",
   "metadata": {},
   "source": [
    "## Analisi exploratorio y entrenamiento del modelo de predicción\n",
    "- FERNANDO JOSE RUIZ NARANJO"
   ]
  },
  {
   "cell_type": "code",
   "execution_count": 57,
   "metadata": {},
   "outputs": [],
   "source": [
    "\n",
    "import seaborn as sns\n",
    "sns.set()\n",
    "import pandas as pd\n",
    "import numpy as np\n",
    "import matplotlib.pyplot as plt\n",
    "from sklearn.model_selection import train_test_split\n",
    "from sklearn.metrics import accuracy_score\n",
    "from sklearn.ensemble import RandomForestClassifier\n",
    "#from sklearn.metrics import plot_confusion_matrix\n",
    "from sklearn.metrics import ConfusionMatrixDisplay\n",
    "from sklearn.ensemble import HistGradientBoostingClassifier\n",
    "from sklearn import tree\n",
    "from sklearn.metrics import classification_report\n",
    "from sklearn.model_selection import cross_val_score"
   ]
  },
  {
   "cell_type": "markdown",
   "metadata": {},
   "source": [
    "Cargamos el data set Original"
   ]
  },
  {
   "cell_type": "code",
   "execution_count": 37,
   "metadata": {},
   "outputs": [
    {
     "data": {
      "text/html": [
       "<div>\n",
       "<style scoped>\n",
       "    .dataframe tbody tr th:only-of-type {\n",
       "        vertical-align: middle;\n",
       "    }\n",
       "\n",
       "    .dataframe tbody tr th {\n",
       "        vertical-align: top;\n",
       "    }\n",
       "\n",
       "    .dataframe thead th {\n",
       "        text-align: right;\n",
       "    }\n",
       "</style>\n",
       "<table border=\"1\" class=\"dataframe\">\n",
       "  <thead>\n",
       "    <tr style=\"text-align: right;\">\n",
       "      <th></th>\n",
       "      <th>Gender</th>\n",
       "      <th>Age</th>\n",
       "      <th>Height</th>\n",
       "      <th>Weight</th>\n",
       "      <th>family_history_with_overweight</th>\n",
       "      <th>FAVC</th>\n",
       "      <th>FCVC</th>\n",
       "      <th>NCP</th>\n",
       "      <th>CAEC</th>\n",
       "      <th>SMOKE</th>\n",
       "      <th>CH2O</th>\n",
       "      <th>SCC</th>\n",
       "      <th>FAF</th>\n",
       "      <th>TUE</th>\n",
       "      <th>CALC</th>\n",
       "      <th>MTRANS</th>\n",
       "      <th>NObeyesdad</th>\n",
       "    </tr>\n",
       "  </thead>\n",
       "  <tbody>\n",
       "    <tr>\n",
       "      <th>0</th>\n",
       "      <td>Female</td>\n",
       "      <td>21.000000</td>\n",
       "      <td>1.620000</td>\n",
       "      <td>64.000000</td>\n",
       "      <td>yes</td>\n",
       "      <td>no</td>\n",
       "      <td>2.0</td>\n",
       "      <td>3.0</td>\n",
       "      <td>Sometimes</td>\n",
       "      <td>no</td>\n",
       "      <td>2.000000</td>\n",
       "      <td>no</td>\n",
       "      <td>0.000000</td>\n",
       "      <td>1.000000</td>\n",
       "      <td>no</td>\n",
       "      <td>Public_Transportation</td>\n",
       "      <td>Normal_Weight</td>\n",
       "    </tr>\n",
       "    <tr>\n",
       "      <th>1</th>\n",
       "      <td>Female</td>\n",
       "      <td>21.000000</td>\n",
       "      <td>1.520000</td>\n",
       "      <td>56.000000</td>\n",
       "      <td>yes</td>\n",
       "      <td>no</td>\n",
       "      <td>3.0</td>\n",
       "      <td>3.0</td>\n",
       "      <td>Sometimes</td>\n",
       "      <td>yes</td>\n",
       "      <td>3.000000</td>\n",
       "      <td>yes</td>\n",
       "      <td>3.000000</td>\n",
       "      <td>0.000000</td>\n",
       "      <td>Sometimes</td>\n",
       "      <td>Public_Transportation</td>\n",
       "      <td>Normal_Weight</td>\n",
       "    </tr>\n",
       "    <tr>\n",
       "      <th>2</th>\n",
       "      <td>Male</td>\n",
       "      <td>23.000000</td>\n",
       "      <td>1.800000</td>\n",
       "      <td>77.000000</td>\n",
       "      <td>yes</td>\n",
       "      <td>no</td>\n",
       "      <td>2.0</td>\n",
       "      <td>3.0</td>\n",
       "      <td>Sometimes</td>\n",
       "      <td>no</td>\n",
       "      <td>2.000000</td>\n",
       "      <td>no</td>\n",
       "      <td>2.000000</td>\n",
       "      <td>1.000000</td>\n",
       "      <td>Frequently</td>\n",
       "      <td>Public_Transportation</td>\n",
       "      <td>Normal_Weight</td>\n",
       "    </tr>\n",
       "    <tr>\n",
       "      <th>3</th>\n",
       "      <td>Male</td>\n",
       "      <td>27.000000</td>\n",
       "      <td>1.800000</td>\n",
       "      <td>87.000000</td>\n",
       "      <td>no</td>\n",
       "      <td>no</td>\n",
       "      <td>3.0</td>\n",
       "      <td>3.0</td>\n",
       "      <td>Sometimes</td>\n",
       "      <td>no</td>\n",
       "      <td>2.000000</td>\n",
       "      <td>no</td>\n",
       "      <td>2.000000</td>\n",
       "      <td>0.000000</td>\n",
       "      <td>Frequently</td>\n",
       "      <td>Walking</td>\n",
       "      <td>Overweight_Level_I</td>\n",
       "    </tr>\n",
       "    <tr>\n",
       "      <th>4</th>\n",
       "      <td>Male</td>\n",
       "      <td>22.000000</td>\n",
       "      <td>1.780000</td>\n",
       "      <td>89.800000</td>\n",
       "      <td>no</td>\n",
       "      <td>no</td>\n",
       "      <td>2.0</td>\n",
       "      <td>1.0</td>\n",
       "      <td>Sometimes</td>\n",
       "      <td>no</td>\n",
       "      <td>2.000000</td>\n",
       "      <td>no</td>\n",
       "      <td>0.000000</td>\n",
       "      <td>0.000000</td>\n",
       "      <td>Sometimes</td>\n",
       "      <td>Public_Transportation</td>\n",
       "      <td>Overweight_Level_II</td>\n",
       "    </tr>\n",
       "    <tr>\n",
       "      <th>...</th>\n",
       "      <td>...</td>\n",
       "      <td>...</td>\n",
       "      <td>...</td>\n",
       "      <td>...</td>\n",
       "      <td>...</td>\n",
       "      <td>...</td>\n",
       "      <td>...</td>\n",
       "      <td>...</td>\n",
       "      <td>...</td>\n",
       "      <td>...</td>\n",
       "      <td>...</td>\n",
       "      <td>...</td>\n",
       "      <td>...</td>\n",
       "      <td>...</td>\n",
       "      <td>...</td>\n",
       "      <td>...</td>\n",
       "      <td>...</td>\n",
       "    </tr>\n",
       "    <tr>\n",
       "      <th>2106</th>\n",
       "      <td>Female</td>\n",
       "      <td>20.976842</td>\n",
       "      <td>1.710730</td>\n",
       "      <td>131.408528</td>\n",
       "      <td>yes</td>\n",
       "      <td>yes</td>\n",
       "      <td>3.0</td>\n",
       "      <td>3.0</td>\n",
       "      <td>Sometimes</td>\n",
       "      <td>no</td>\n",
       "      <td>1.728139</td>\n",
       "      <td>no</td>\n",
       "      <td>1.676269</td>\n",
       "      <td>0.906247</td>\n",
       "      <td>Sometimes</td>\n",
       "      <td>Public_Transportation</td>\n",
       "      <td>Obesity_Type_III</td>\n",
       "    </tr>\n",
       "    <tr>\n",
       "      <th>2107</th>\n",
       "      <td>Female</td>\n",
       "      <td>21.982942</td>\n",
       "      <td>1.748584</td>\n",
       "      <td>133.742943</td>\n",
       "      <td>yes</td>\n",
       "      <td>yes</td>\n",
       "      <td>3.0</td>\n",
       "      <td>3.0</td>\n",
       "      <td>Sometimes</td>\n",
       "      <td>no</td>\n",
       "      <td>2.005130</td>\n",
       "      <td>no</td>\n",
       "      <td>1.341390</td>\n",
       "      <td>0.599270</td>\n",
       "      <td>Sometimes</td>\n",
       "      <td>Public_Transportation</td>\n",
       "      <td>Obesity_Type_III</td>\n",
       "    </tr>\n",
       "    <tr>\n",
       "      <th>2108</th>\n",
       "      <td>Female</td>\n",
       "      <td>22.524036</td>\n",
       "      <td>1.752206</td>\n",
       "      <td>133.689352</td>\n",
       "      <td>yes</td>\n",
       "      <td>yes</td>\n",
       "      <td>3.0</td>\n",
       "      <td>3.0</td>\n",
       "      <td>Sometimes</td>\n",
       "      <td>no</td>\n",
       "      <td>2.054193</td>\n",
       "      <td>no</td>\n",
       "      <td>1.414209</td>\n",
       "      <td>0.646288</td>\n",
       "      <td>Sometimes</td>\n",
       "      <td>Public_Transportation</td>\n",
       "      <td>Obesity_Type_III</td>\n",
       "    </tr>\n",
       "    <tr>\n",
       "      <th>2109</th>\n",
       "      <td>Female</td>\n",
       "      <td>24.361936</td>\n",
       "      <td>1.739450</td>\n",
       "      <td>133.346641</td>\n",
       "      <td>yes</td>\n",
       "      <td>yes</td>\n",
       "      <td>3.0</td>\n",
       "      <td>3.0</td>\n",
       "      <td>Sometimes</td>\n",
       "      <td>no</td>\n",
       "      <td>2.852339</td>\n",
       "      <td>no</td>\n",
       "      <td>1.139107</td>\n",
       "      <td>0.586035</td>\n",
       "      <td>Sometimes</td>\n",
       "      <td>Public_Transportation</td>\n",
       "      <td>Obesity_Type_III</td>\n",
       "    </tr>\n",
       "    <tr>\n",
       "      <th>2110</th>\n",
       "      <td>Female</td>\n",
       "      <td>23.664709</td>\n",
       "      <td>1.738836</td>\n",
       "      <td>133.472641</td>\n",
       "      <td>yes</td>\n",
       "      <td>yes</td>\n",
       "      <td>3.0</td>\n",
       "      <td>3.0</td>\n",
       "      <td>Sometimes</td>\n",
       "      <td>no</td>\n",
       "      <td>2.863513</td>\n",
       "      <td>no</td>\n",
       "      <td>1.026452</td>\n",
       "      <td>0.714137</td>\n",
       "      <td>Sometimes</td>\n",
       "      <td>Public_Transportation</td>\n",
       "      <td>Obesity_Type_III</td>\n",
       "    </tr>\n",
       "  </tbody>\n",
       "</table>\n",
       "<p>2111 rows × 17 columns</p>\n",
       "</div>"
      ],
      "text/plain": [
       "      Gender        Age    Height      Weight family_history_with_overweight  \\\n",
       "0     Female  21.000000  1.620000   64.000000                            yes   \n",
       "1     Female  21.000000  1.520000   56.000000                            yes   \n",
       "2       Male  23.000000  1.800000   77.000000                            yes   \n",
       "3       Male  27.000000  1.800000   87.000000                             no   \n",
       "4       Male  22.000000  1.780000   89.800000                             no   \n",
       "...      ...        ...       ...         ...                            ...   \n",
       "2106  Female  20.976842  1.710730  131.408528                            yes   \n",
       "2107  Female  21.982942  1.748584  133.742943                            yes   \n",
       "2108  Female  22.524036  1.752206  133.689352                            yes   \n",
       "2109  Female  24.361936  1.739450  133.346641                            yes   \n",
       "2110  Female  23.664709  1.738836  133.472641                            yes   \n",
       "\n",
       "     FAVC  FCVC  NCP       CAEC SMOKE      CH2O  SCC       FAF       TUE  \\\n",
       "0      no   2.0  3.0  Sometimes    no  2.000000   no  0.000000  1.000000   \n",
       "1      no   3.0  3.0  Sometimes   yes  3.000000  yes  3.000000  0.000000   \n",
       "2      no   2.0  3.0  Sometimes    no  2.000000   no  2.000000  1.000000   \n",
       "3      no   3.0  3.0  Sometimes    no  2.000000   no  2.000000  0.000000   \n",
       "4      no   2.0  1.0  Sometimes    no  2.000000   no  0.000000  0.000000   \n",
       "...   ...   ...  ...        ...   ...       ...  ...       ...       ...   \n",
       "2106  yes   3.0  3.0  Sometimes    no  1.728139   no  1.676269  0.906247   \n",
       "2107  yes   3.0  3.0  Sometimes    no  2.005130   no  1.341390  0.599270   \n",
       "2108  yes   3.0  3.0  Sometimes    no  2.054193   no  1.414209  0.646288   \n",
       "2109  yes   3.0  3.0  Sometimes    no  2.852339   no  1.139107  0.586035   \n",
       "2110  yes   3.0  3.0  Sometimes    no  2.863513   no  1.026452  0.714137   \n",
       "\n",
       "            CALC                 MTRANS           NObeyesdad  \n",
       "0             no  Public_Transportation        Normal_Weight  \n",
       "1      Sometimes  Public_Transportation        Normal_Weight  \n",
       "2     Frequently  Public_Transportation        Normal_Weight  \n",
       "3     Frequently                Walking   Overweight_Level_I  \n",
       "4      Sometimes  Public_Transportation  Overweight_Level_II  \n",
       "...          ...                    ...                  ...  \n",
       "2106   Sometimes  Public_Transportation     Obesity_Type_III  \n",
       "2107   Sometimes  Public_Transportation     Obesity_Type_III  \n",
       "2108   Sometimes  Public_Transportation     Obesity_Type_III  \n",
       "2109   Sometimes  Public_Transportation     Obesity_Type_III  \n",
       "2110   Sometimes  Public_Transportation     Obesity_Type_III  \n",
       "\n",
       "[2111 rows x 17 columns]"
      ]
     },
     "execution_count": 37,
     "metadata": {},
     "output_type": "execute_result"
    }
   ],
   "source": [
    "df_o = pd.read_csv('ObesityDataSet.csv')\n",
    "df_o"
   ]
  },
  {
   "cell_type": "markdown",
   "metadata": {},
   "source": [
    "**Interpretamos el significado de cada columna:**\n",
    "\n",
    "- gender -> genero\n",
    "- Age  -> edad\n",
    "- Height -> altura\n",
    "- wight -> anchura o peso (debe ser peso) \n",
    "- family_history_with_overweight {yes,no} -> si la familia sufre de sobre peso (es una valor boleano osea true o false)\n",
    "- FAVC  -> Consumo frecuente de alimentos ricos en calorías\n",
    "- FCVC -> Frecuencia de consumo de verduras\n",
    "- NCP -> Número de comidas principales o numero de comidad al dia\n",
    "- CAEC -> Consumo de alimentos entre comidas.\n",
    "- SMOKE -> si fuma(respuesta verdadera o falso, osea un valor booleano)\n",
    "- CH2O -> consumo de agua al dia\n",
    "- SCC -> seguimiento de consumo de calorias (osea si sigues tu consumo de calorias, es si o no osea un valor booleano\n",
    "- FAF -> frecuencia de actividad fisica\n",
    "- TUE -> tiempo de uso de dispositivos electronicos\n",
    "- CALC -> si consume alcoho(no, algunas veces, frecuenteente o siempre)\n",
    "- MTRANS -> transporte utilizado(automovil, motocicleta, bicicleta, transporte_publico, caminando)\n",
    "- NObeyesdad  -> este valor se crea en base a los demas y consta de lo siguiente (peso_insuficiente, peso_normal, sobrepeso_nivel1, sobrepeso_nivel2, obesidad_tipo1, obesidad_tipo2, obesidad_tipo3 )"
   ]
  },
  {
   "cell_type": "markdown",
   "metadata": {},
   "source": [
    "### Identificamos los tipos numericos o float que se encuentren en el Dataset\n"
   ]
  },
  {
   "cell_type": "code",
   "execution_count": 38,
   "metadata": {},
   "outputs": [
    {
     "data": {
      "text/plain": [
       "Gender                             object\n",
       "Age                               float64\n",
       "Height                            float64\n",
       "Weight                            float64\n",
       "family_history_with_overweight     object\n",
       "FAVC                               object\n",
       "FCVC                              float64\n",
       "NCP                               float64\n",
       "CAEC                               object\n",
       "SMOKE                              object\n",
       "CH2O                              float64\n",
       "SCC                                object\n",
       "FAF                               float64\n",
       "TUE                               float64\n",
       "CALC                               object\n",
       "MTRANS                             object\n",
       "NObeyesdad                         object\n",
       "dtype: object"
      ]
     },
     "execution_count": 38,
     "metadata": {},
     "output_type": "execute_result"
    }
   ],
   "source": [
    "df_o.dtypes"
   ]
  },
  {
   "cell_type": "markdown",
   "metadata": {},
   "source": [
    "Redondeamos solo la fila \"Age\" al entero más proximo y en las demás (tipo float64) reducimos los deciamales hasta tener dos."
   ]
  },
  {
   "cell_type": "code",
   "execution_count": 39,
   "metadata": {},
   "outputs": [
    {
     "data": {
      "text/html": [
       "<div>\n",
       "<style scoped>\n",
       "    .dataframe tbody tr th:only-of-type {\n",
       "        vertical-align: middle;\n",
       "    }\n",
       "\n",
       "    .dataframe tbody tr th {\n",
       "        vertical-align: top;\n",
       "    }\n",
       "\n",
       "    .dataframe thead th {\n",
       "        text-align: right;\n",
       "    }\n",
       "</style>\n",
       "<table border=\"1\" class=\"dataframe\">\n",
       "  <thead>\n",
       "    <tr style=\"text-align: right;\">\n",
       "      <th></th>\n",
       "      <th>Gender</th>\n",
       "      <th>Age</th>\n",
       "      <th>Height</th>\n",
       "      <th>Weight</th>\n",
       "      <th>family_history_with_overweight</th>\n",
       "      <th>FAVC</th>\n",
       "      <th>FCVC</th>\n",
       "      <th>NCP</th>\n",
       "      <th>CAEC</th>\n",
       "      <th>SMOKE</th>\n",
       "      <th>CH2O</th>\n",
       "      <th>SCC</th>\n",
       "      <th>FAF</th>\n",
       "      <th>TUE</th>\n",
       "      <th>CALC</th>\n",
       "      <th>MTRANS</th>\n",
       "      <th>NObeyesdad</th>\n",
       "    </tr>\n",
       "  </thead>\n",
       "  <tbody>\n",
       "    <tr>\n",
       "      <th>0</th>\n",
       "      <td>Female</td>\n",
       "      <td>21.0</td>\n",
       "      <td>1.62</td>\n",
       "      <td>64.00</td>\n",
       "      <td>yes</td>\n",
       "      <td>no</td>\n",
       "      <td>2.0</td>\n",
       "      <td>3.0</td>\n",
       "      <td>Sometimes</td>\n",
       "      <td>no</td>\n",
       "      <td>2.00</td>\n",
       "      <td>no</td>\n",
       "      <td>0.00</td>\n",
       "      <td>1.00</td>\n",
       "      <td>no</td>\n",
       "      <td>Public_Transportation</td>\n",
       "      <td>Normal_Weight</td>\n",
       "    </tr>\n",
       "    <tr>\n",
       "      <th>1</th>\n",
       "      <td>Female</td>\n",
       "      <td>21.0</td>\n",
       "      <td>1.52</td>\n",
       "      <td>56.00</td>\n",
       "      <td>yes</td>\n",
       "      <td>no</td>\n",
       "      <td>3.0</td>\n",
       "      <td>3.0</td>\n",
       "      <td>Sometimes</td>\n",
       "      <td>yes</td>\n",
       "      <td>3.00</td>\n",
       "      <td>yes</td>\n",
       "      <td>3.00</td>\n",
       "      <td>0.00</td>\n",
       "      <td>Sometimes</td>\n",
       "      <td>Public_Transportation</td>\n",
       "      <td>Normal_Weight</td>\n",
       "    </tr>\n",
       "    <tr>\n",
       "      <th>2</th>\n",
       "      <td>Male</td>\n",
       "      <td>23.0</td>\n",
       "      <td>1.80</td>\n",
       "      <td>77.00</td>\n",
       "      <td>yes</td>\n",
       "      <td>no</td>\n",
       "      <td>2.0</td>\n",
       "      <td>3.0</td>\n",
       "      <td>Sometimes</td>\n",
       "      <td>no</td>\n",
       "      <td>2.00</td>\n",
       "      <td>no</td>\n",
       "      <td>2.00</td>\n",
       "      <td>1.00</td>\n",
       "      <td>Frequently</td>\n",
       "      <td>Public_Transportation</td>\n",
       "      <td>Normal_Weight</td>\n",
       "    </tr>\n",
       "    <tr>\n",
       "      <th>3</th>\n",
       "      <td>Male</td>\n",
       "      <td>27.0</td>\n",
       "      <td>1.80</td>\n",
       "      <td>87.00</td>\n",
       "      <td>no</td>\n",
       "      <td>no</td>\n",
       "      <td>3.0</td>\n",
       "      <td>3.0</td>\n",
       "      <td>Sometimes</td>\n",
       "      <td>no</td>\n",
       "      <td>2.00</td>\n",
       "      <td>no</td>\n",
       "      <td>2.00</td>\n",
       "      <td>0.00</td>\n",
       "      <td>Frequently</td>\n",
       "      <td>Walking</td>\n",
       "      <td>Overweight_Level_I</td>\n",
       "    </tr>\n",
       "    <tr>\n",
       "      <th>4</th>\n",
       "      <td>Male</td>\n",
       "      <td>22.0</td>\n",
       "      <td>1.78</td>\n",
       "      <td>89.80</td>\n",
       "      <td>no</td>\n",
       "      <td>no</td>\n",
       "      <td>2.0</td>\n",
       "      <td>1.0</td>\n",
       "      <td>Sometimes</td>\n",
       "      <td>no</td>\n",
       "      <td>2.00</td>\n",
       "      <td>no</td>\n",
       "      <td>0.00</td>\n",
       "      <td>0.00</td>\n",
       "      <td>Sometimes</td>\n",
       "      <td>Public_Transportation</td>\n",
       "      <td>Overweight_Level_II</td>\n",
       "    </tr>\n",
       "    <tr>\n",
       "      <th>...</th>\n",
       "      <td>...</td>\n",
       "      <td>...</td>\n",
       "      <td>...</td>\n",
       "      <td>...</td>\n",
       "      <td>...</td>\n",
       "      <td>...</td>\n",
       "      <td>...</td>\n",
       "      <td>...</td>\n",
       "      <td>...</td>\n",
       "      <td>...</td>\n",
       "      <td>...</td>\n",
       "      <td>...</td>\n",
       "      <td>...</td>\n",
       "      <td>...</td>\n",
       "      <td>...</td>\n",
       "      <td>...</td>\n",
       "      <td>...</td>\n",
       "    </tr>\n",
       "    <tr>\n",
       "      <th>2106</th>\n",
       "      <td>Female</td>\n",
       "      <td>21.0</td>\n",
       "      <td>1.71</td>\n",
       "      <td>131.41</td>\n",
       "      <td>yes</td>\n",
       "      <td>yes</td>\n",
       "      <td>3.0</td>\n",
       "      <td>3.0</td>\n",
       "      <td>Sometimes</td>\n",
       "      <td>no</td>\n",
       "      <td>1.73</td>\n",
       "      <td>no</td>\n",
       "      <td>1.68</td>\n",
       "      <td>0.91</td>\n",
       "      <td>Sometimes</td>\n",
       "      <td>Public_Transportation</td>\n",
       "      <td>Obesity_Type_III</td>\n",
       "    </tr>\n",
       "    <tr>\n",
       "      <th>2107</th>\n",
       "      <td>Female</td>\n",
       "      <td>22.0</td>\n",
       "      <td>1.75</td>\n",
       "      <td>133.74</td>\n",
       "      <td>yes</td>\n",
       "      <td>yes</td>\n",
       "      <td>3.0</td>\n",
       "      <td>3.0</td>\n",
       "      <td>Sometimes</td>\n",
       "      <td>no</td>\n",
       "      <td>2.01</td>\n",
       "      <td>no</td>\n",
       "      <td>1.34</td>\n",
       "      <td>0.60</td>\n",
       "      <td>Sometimes</td>\n",
       "      <td>Public_Transportation</td>\n",
       "      <td>Obesity_Type_III</td>\n",
       "    </tr>\n",
       "    <tr>\n",
       "      <th>2108</th>\n",
       "      <td>Female</td>\n",
       "      <td>23.0</td>\n",
       "      <td>1.75</td>\n",
       "      <td>133.69</td>\n",
       "      <td>yes</td>\n",
       "      <td>yes</td>\n",
       "      <td>3.0</td>\n",
       "      <td>3.0</td>\n",
       "      <td>Sometimes</td>\n",
       "      <td>no</td>\n",
       "      <td>2.05</td>\n",
       "      <td>no</td>\n",
       "      <td>1.41</td>\n",
       "      <td>0.65</td>\n",
       "      <td>Sometimes</td>\n",
       "      <td>Public_Transportation</td>\n",
       "      <td>Obesity_Type_III</td>\n",
       "    </tr>\n",
       "    <tr>\n",
       "      <th>2109</th>\n",
       "      <td>Female</td>\n",
       "      <td>24.0</td>\n",
       "      <td>1.74</td>\n",
       "      <td>133.35</td>\n",
       "      <td>yes</td>\n",
       "      <td>yes</td>\n",
       "      <td>3.0</td>\n",
       "      <td>3.0</td>\n",
       "      <td>Sometimes</td>\n",
       "      <td>no</td>\n",
       "      <td>2.85</td>\n",
       "      <td>no</td>\n",
       "      <td>1.14</td>\n",
       "      <td>0.59</td>\n",
       "      <td>Sometimes</td>\n",
       "      <td>Public_Transportation</td>\n",
       "      <td>Obesity_Type_III</td>\n",
       "    </tr>\n",
       "    <tr>\n",
       "      <th>2110</th>\n",
       "      <td>Female</td>\n",
       "      <td>24.0</td>\n",
       "      <td>1.74</td>\n",
       "      <td>133.47</td>\n",
       "      <td>yes</td>\n",
       "      <td>yes</td>\n",
       "      <td>3.0</td>\n",
       "      <td>3.0</td>\n",
       "      <td>Sometimes</td>\n",
       "      <td>no</td>\n",
       "      <td>2.86</td>\n",
       "      <td>no</td>\n",
       "      <td>1.03</td>\n",
       "      <td>0.71</td>\n",
       "      <td>Sometimes</td>\n",
       "      <td>Public_Transportation</td>\n",
       "      <td>Obesity_Type_III</td>\n",
       "    </tr>\n",
       "  </tbody>\n",
       "</table>\n",
       "<p>2111 rows × 17 columns</p>\n",
       "</div>"
      ],
      "text/plain": [
       "      Gender   Age  Height  Weight family_history_with_overweight FAVC  FCVC  \\\n",
       "0     Female  21.0    1.62   64.00                            yes   no   2.0   \n",
       "1     Female  21.0    1.52   56.00                            yes   no   3.0   \n",
       "2       Male  23.0    1.80   77.00                            yes   no   2.0   \n",
       "3       Male  27.0    1.80   87.00                             no   no   3.0   \n",
       "4       Male  22.0    1.78   89.80                             no   no   2.0   \n",
       "...      ...   ...     ...     ...                            ...  ...   ...   \n",
       "2106  Female  21.0    1.71  131.41                            yes  yes   3.0   \n",
       "2107  Female  22.0    1.75  133.74                            yes  yes   3.0   \n",
       "2108  Female  23.0    1.75  133.69                            yes  yes   3.0   \n",
       "2109  Female  24.0    1.74  133.35                            yes  yes   3.0   \n",
       "2110  Female  24.0    1.74  133.47                            yes  yes   3.0   \n",
       "\n",
       "      NCP       CAEC SMOKE  CH2O  SCC   FAF   TUE        CALC  \\\n",
       "0     3.0  Sometimes    no  2.00   no  0.00  1.00          no   \n",
       "1     3.0  Sometimes   yes  3.00  yes  3.00  0.00   Sometimes   \n",
       "2     3.0  Sometimes    no  2.00   no  2.00  1.00  Frequently   \n",
       "3     3.0  Sometimes    no  2.00   no  2.00  0.00  Frequently   \n",
       "4     1.0  Sometimes    no  2.00   no  0.00  0.00   Sometimes   \n",
       "...   ...        ...   ...   ...  ...   ...   ...         ...   \n",
       "2106  3.0  Sometimes    no  1.73   no  1.68  0.91   Sometimes   \n",
       "2107  3.0  Sometimes    no  2.01   no  1.34  0.60   Sometimes   \n",
       "2108  3.0  Sometimes    no  2.05   no  1.41  0.65   Sometimes   \n",
       "2109  3.0  Sometimes    no  2.85   no  1.14  0.59   Sometimes   \n",
       "2110  3.0  Sometimes    no  2.86   no  1.03  0.71   Sometimes   \n",
       "\n",
       "                     MTRANS           NObeyesdad  \n",
       "0     Public_Transportation        Normal_Weight  \n",
       "1     Public_Transportation        Normal_Weight  \n",
       "2     Public_Transportation        Normal_Weight  \n",
       "3                   Walking   Overweight_Level_I  \n",
       "4     Public_Transportation  Overweight_Level_II  \n",
       "...                     ...                  ...  \n",
       "2106  Public_Transportation     Obesity_Type_III  \n",
       "2107  Public_Transportation     Obesity_Type_III  \n",
       "2108  Public_Transportation     Obesity_Type_III  \n",
       "2109  Public_Transportation     Obesity_Type_III  \n",
       "2110  Public_Transportation     Obesity_Type_III  \n",
       "\n",
       "[2111 rows x 17 columns]"
      ]
     },
     "execution_count": 39,
     "metadata": {},
     "output_type": "execute_result"
    }
   ],
   "source": [
    "dfAge = df_o[\"Age\"].round()\n",
    "dfHeight = df_o[\"Height\"].round(decimals = 2)\n",
    "dfWeight = df_o[\"Weight\"].round(decimals = 2)\n",
    "dfCH2O = df_o[\"CH2O\"].round(decimals = 2)\n",
    "dfFAF = df_o[\"FAF\"].round(decimals = 2)\n",
    "dfTUE = df_o[\"TUE\"].round(decimals = 2)\n",
    "\n",
    "df_o[\"Age\"] = dfAge\n",
    "df_o[\"Height\"] = dfHeight\n",
    "df_o[\"Weight\"] = dfWeight\n",
    "df_o[\"CH2O\"] = dfCH2O\n",
    "df_o[\"FAF\"] = dfFAF\n",
    "df_o[\"TUE\"] = dfTUE\n",
    "df_o"
   ]
  },
  {
   "cell_type": "markdown",
   "metadata": {},
   "source": [
    "Se traduce el nombre de las columnas al español, para facilitar el entendimiento"
   ]
  },
  {
   "cell_type": "code",
   "execution_count": 40,
   "metadata": {},
   "outputs": [
    {
     "data": {
      "text/html": [
       "<div>\n",
       "<style scoped>\n",
       "    .dataframe tbody tr th:only-of-type {\n",
       "        vertical-align: middle;\n",
       "    }\n",
       "\n",
       "    .dataframe tbody tr th {\n",
       "        vertical-align: top;\n",
       "    }\n",
       "\n",
       "    .dataframe thead th {\n",
       "        text-align: right;\n",
       "    }\n",
       "</style>\n",
       "<table border=\"1\" class=\"dataframe\">\n",
       "  <thead>\n",
       "    <tr style=\"text-align: right;\">\n",
       "      <th></th>\n",
       "      <th>Genero</th>\n",
       "      <th>Edad</th>\n",
       "      <th>Altura</th>\n",
       "      <th>Peso</th>\n",
       "      <th>Historial_familiar</th>\n",
       "      <th>C_rico_calorias</th>\n",
       "      <th>F_Consumo_verduras</th>\n",
       "      <th>N_comidas</th>\n",
       "      <th>Meriendas</th>\n",
       "      <th>Fumador</th>\n",
       "      <th>Consumo_agua</th>\n",
       "      <th>Consumo_calorias</th>\n",
       "      <th>F_actvidad_fisica</th>\n",
       "      <th>T_uso_dispositivos</th>\n",
       "      <th>C_alcohol</th>\n",
       "      <th>Medio_transporte</th>\n",
       "      <th>Tipo_obesidad</th>\n",
       "    </tr>\n",
       "  </thead>\n",
       "  <tbody>\n",
       "    <tr>\n",
       "      <th>0</th>\n",
       "      <td>Female</td>\n",
       "      <td>21.0</td>\n",
       "      <td>1.62</td>\n",
       "      <td>64.00</td>\n",
       "      <td>yes</td>\n",
       "      <td>no</td>\n",
       "      <td>2.0</td>\n",
       "      <td>3.0</td>\n",
       "      <td>Sometimes</td>\n",
       "      <td>no</td>\n",
       "      <td>2.00</td>\n",
       "      <td>no</td>\n",
       "      <td>0.00</td>\n",
       "      <td>1.00</td>\n",
       "      <td>no</td>\n",
       "      <td>Public_Transportation</td>\n",
       "      <td>Normal_Weight</td>\n",
       "    </tr>\n",
       "    <tr>\n",
       "      <th>1</th>\n",
       "      <td>Female</td>\n",
       "      <td>21.0</td>\n",
       "      <td>1.52</td>\n",
       "      <td>56.00</td>\n",
       "      <td>yes</td>\n",
       "      <td>no</td>\n",
       "      <td>3.0</td>\n",
       "      <td>3.0</td>\n",
       "      <td>Sometimes</td>\n",
       "      <td>yes</td>\n",
       "      <td>3.00</td>\n",
       "      <td>yes</td>\n",
       "      <td>3.00</td>\n",
       "      <td>0.00</td>\n",
       "      <td>Sometimes</td>\n",
       "      <td>Public_Transportation</td>\n",
       "      <td>Normal_Weight</td>\n",
       "    </tr>\n",
       "    <tr>\n",
       "      <th>2</th>\n",
       "      <td>Male</td>\n",
       "      <td>23.0</td>\n",
       "      <td>1.80</td>\n",
       "      <td>77.00</td>\n",
       "      <td>yes</td>\n",
       "      <td>no</td>\n",
       "      <td>2.0</td>\n",
       "      <td>3.0</td>\n",
       "      <td>Sometimes</td>\n",
       "      <td>no</td>\n",
       "      <td>2.00</td>\n",
       "      <td>no</td>\n",
       "      <td>2.00</td>\n",
       "      <td>1.00</td>\n",
       "      <td>Frequently</td>\n",
       "      <td>Public_Transportation</td>\n",
       "      <td>Normal_Weight</td>\n",
       "    </tr>\n",
       "    <tr>\n",
       "      <th>3</th>\n",
       "      <td>Male</td>\n",
       "      <td>27.0</td>\n",
       "      <td>1.80</td>\n",
       "      <td>87.00</td>\n",
       "      <td>no</td>\n",
       "      <td>no</td>\n",
       "      <td>3.0</td>\n",
       "      <td>3.0</td>\n",
       "      <td>Sometimes</td>\n",
       "      <td>no</td>\n",
       "      <td>2.00</td>\n",
       "      <td>no</td>\n",
       "      <td>2.00</td>\n",
       "      <td>0.00</td>\n",
       "      <td>Frequently</td>\n",
       "      <td>Walking</td>\n",
       "      <td>Overweight_Level_I</td>\n",
       "    </tr>\n",
       "    <tr>\n",
       "      <th>4</th>\n",
       "      <td>Male</td>\n",
       "      <td>22.0</td>\n",
       "      <td>1.78</td>\n",
       "      <td>89.80</td>\n",
       "      <td>no</td>\n",
       "      <td>no</td>\n",
       "      <td>2.0</td>\n",
       "      <td>1.0</td>\n",
       "      <td>Sometimes</td>\n",
       "      <td>no</td>\n",
       "      <td>2.00</td>\n",
       "      <td>no</td>\n",
       "      <td>0.00</td>\n",
       "      <td>0.00</td>\n",
       "      <td>Sometimes</td>\n",
       "      <td>Public_Transportation</td>\n",
       "      <td>Overweight_Level_II</td>\n",
       "    </tr>\n",
       "    <tr>\n",
       "      <th>...</th>\n",
       "      <td>...</td>\n",
       "      <td>...</td>\n",
       "      <td>...</td>\n",
       "      <td>...</td>\n",
       "      <td>...</td>\n",
       "      <td>...</td>\n",
       "      <td>...</td>\n",
       "      <td>...</td>\n",
       "      <td>...</td>\n",
       "      <td>...</td>\n",
       "      <td>...</td>\n",
       "      <td>...</td>\n",
       "      <td>...</td>\n",
       "      <td>...</td>\n",
       "      <td>...</td>\n",
       "      <td>...</td>\n",
       "      <td>...</td>\n",
       "    </tr>\n",
       "    <tr>\n",
       "      <th>2106</th>\n",
       "      <td>Female</td>\n",
       "      <td>21.0</td>\n",
       "      <td>1.71</td>\n",
       "      <td>131.41</td>\n",
       "      <td>yes</td>\n",
       "      <td>yes</td>\n",
       "      <td>3.0</td>\n",
       "      <td>3.0</td>\n",
       "      <td>Sometimes</td>\n",
       "      <td>no</td>\n",
       "      <td>1.73</td>\n",
       "      <td>no</td>\n",
       "      <td>1.68</td>\n",
       "      <td>0.91</td>\n",
       "      <td>Sometimes</td>\n",
       "      <td>Public_Transportation</td>\n",
       "      <td>Obesity_Type_III</td>\n",
       "    </tr>\n",
       "    <tr>\n",
       "      <th>2107</th>\n",
       "      <td>Female</td>\n",
       "      <td>22.0</td>\n",
       "      <td>1.75</td>\n",
       "      <td>133.74</td>\n",
       "      <td>yes</td>\n",
       "      <td>yes</td>\n",
       "      <td>3.0</td>\n",
       "      <td>3.0</td>\n",
       "      <td>Sometimes</td>\n",
       "      <td>no</td>\n",
       "      <td>2.01</td>\n",
       "      <td>no</td>\n",
       "      <td>1.34</td>\n",
       "      <td>0.60</td>\n",
       "      <td>Sometimes</td>\n",
       "      <td>Public_Transportation</td>\n",
       "      <td>Obesity_Type_III</td>\n",
       "    </tr>\n",
       "    <tr>\n",
       "      <th>2108</th>\n",
       "      <td>Female</td>\n",
       "      <td>23.0</td>\n",
       "      <td>1.75</td>\n",
       "      <td>133.69</td>\n",
       "      <td>yes</td>\n",
       "      <td>yes</td>\n",
       "      <td>3.0</td>\n",
       "      <td>3.0</td>\n",
       "      <td>Sometimes</td>\n",
       "      <td>no</td>\n",
       "      <td>2.05</td>\n",
       "      <td>no</td>\n",
       "      <td>1.41</td>\n",
       "      <td>0.65</td>\n",
       "      <td>Sometimes</td>\n",
       "      <td>Public_Transportation</td>\n",
       "      <td>Obesity_Type_III</td>\n",
       "    </tr>\n",
       "    <tr>\n",
       "      <th>2109</th>\n",
       "      <td>Female</td>\n",
       "      <td>24.0</td>\n",
       "      <td>1.74</td>\n",
       "      <td>133.35</td>\n",
       "      <td>yes</td>\n",
       "      <td>yes</td>\n",
       "      <td>3.0</td>\n",
       "      <td>3.0</td>\n",
       "      <td>Sometimes</td>\n",
       "      <td>no</td>\n",
       "      <td>2.85</td>\n",
       "      <td>no</td>\n",
       "      <td>1.14</td>\n",
       "      <td>0.59</td>\n",
       "      <td>Sometimes</td>\n",
       "      <td>Public_Transportation</td>\n",
       "      <td>Obesity_Type_III</td>\n",
       "    </tr>\n",
       "    <tr>\n",
       "      <th>2110</th>\n",
       "      <td>Female</td>\n",
       "      <td>24.0</td>\n",
       "      <td>1.74</td>\n",
       "      <td>133.47</td>\n",
       "      <td>yes</td>\n",
       "      <td>yes</td>\n",
       "      <td>3.0</td>\n",
       "      <td>3.0</td>\n",
       "      <td>Sometimes</td>\n",
       "      <td>no</td>\n",
       "      <td>2.86</td>\n",
       "      <td>no</td>\n",
       "      <td>1.03</td>\n",
       "      <td>0.71</td>\n",
       "      <td>Sometimes</td>\n",
       "      <td>Public_Transportation</td>\n",
       "      <td>Obesity_Type_III</td>\n",
       "    </tr>\n",
       "  </tbody>\n",
       "</table>\n",
       "<p>2111 rows × 17 columns</p>\n",
       "</div>"
      ],
      "text/plain": [
       "      Genero  Edad  Altura    Peso Historial_familiar C_rico_calorias  \\\n",
       "0     Female  21.0    1.62   64.00                yes              no   \n",
       "1     Female  21.0    1.52   56.00                yes              no   \n",
       "2       Male  23.0    1.80   77.00                yes              no   \n",
       "3       Male  27.0    1.80   87.00                 no              no   \n",
       "4       Male  22.0    1.78   89.80                 no              no   \n",
       "...      ...   ...     ...     ...                ...             ...   \n",
       "2106  Female  21.0    1.71  131.41                yes             yes   \n",
       "2107  Female  22.0    1.75  133.74                yes             yes   \n",
       "2108  Female  23.0    1.75  133.69                yes             yes   \n",
       "2109  Female  24.0    1.74  133.35                yes             yes   \n",
       "2110  Female  24.0    1.74  133.47                yes             yes   \n",
       "\n",
       "      F_Consumo_verduras  N_comidas  Meriendas Fumador  Consumo_agua  \\\n",
       "0                    2.0        3.0  Sometimes      no          2.00   \n",
       "1                    3.0        3.0  Sometimes     yes          3.00   \n",
       "2                    2.0        3.0  Sometimes      no          2.00   \n",
       "3                    3.0        3.0  Sometimes      no          2.00   \n",
       "4                    2.0        1.0  Sometimes      no          2.00   \n",
       "...                  ...        ...        ...     ...           ...   \n",
       "2106                 3.0        3.0  Sometimes      no          1.73   \n",
       "2107                 3.0        3.0  Sometimes      no          2.01   \n",
       "2108                 3.0        3.0  Sometimes      no          2.05   \n",
       "2109                 3.0        3.0  Sometimes      no          2.85   \n",
       "2110                 3.0        3.0  Sometimes      no          2.86   \n",
       "\n",
       "     Consumo_calorias  F_actvidad_fisica  T_uso_dispositivos   C_alcohol  \\\n",
       "0                  no               0.00                1.00          no   \n",
       "1                 yes               3.00                0.00   Sometimes   \n",
       "2                  no               2.00                1.00  Frequently   \n",
       "3                  no               2.00                0.00  Frequently   \n",
       "4                  no               0.00                0.00   Sometimes   \n",
       "...               ...                ...                 ...         ...   \n",
       "2106               no               1.68                0.91   Sometimes   \n",
       "2107               no               1.34                0.60   Sometimes   \n",
       "2108               no               1.41                0.65   Sometimes   \n",
       "2109               no               1.14                0.59   Sometimes   \n",
       "2110               no               1.03                0.71   Sometimes   \n",
       "\n",
       "           Medio_transporte        Tipo_obesidad  \n",
       "0     Public_Transportation        Normal_Weight  \n",
       "1     Public_Transportation        Normal_Weight  \n",
       "2     Public_Transportation        Normal_Weight  \n",
       "3                   Walking   Overweight_Level_I  \n",
       "4     Public_Transportation  Overweight_Level_II  \n",
       "...                     ...                  ...  \n",
       "2106  Public_Transportation     Obesity_Type_III  \n",
       "2107  Public_Transportation     Obesity_Type_III  \n",
       "2108  Public_Transportation     Obesity_Type_III  \n",
       "2109  Public_Transportation     Obesity_Type_III  \n",
       "2110  Public_Transportation     Obesity_Type_III  \n",
       "\n",
       "[2111 rows x 17 columns]"
      ]
     },
     "execution_count": 40,
     "metadata": {},
     "output_type": "execute_result"
    }
   ],
   "source": [
    "df_o = df_o.rename(columns={\"family_history_with_overweight\": \"Historial_familiar\", \n",
    "                        'Gender': 'Genero', \n",
    "                        'Age': 'Edad',\n",
    "                        'FAVC': 'C_rico_calorias',\n",
    "                        'FCVC': 'F_Consumo_verduras',\n",
    "                        'NCP':'N_comidas',\n",
    "                        'CAEC':'Meriendas',\n",
    "                        'SMOKE':'Fumador',\n",
    "                        'CH2O': 'Consumo_agua',\n",
    "                        'SCC': 'Consumo_calorias',\n",
    "                        'FAF': 'F_actvidad_fisica',\n",
    "                        'TUE': 'T_uso_dispositivos',\n",
    "                        'CALC': 'C_alcohol',\n",
    "                        'MTRANS' : 'Medio_transporte',\n",
    "                        'NObeyesdad': 'Tipo_obesidad',\n",
    "                        'Height':  'Altura',\n",
    "                        'Weight': 'Peso'\n",
    "                       })\n",
    "df_o"
   ]
  },
  {
   "cell_type": "markdown",
   "metadata": {},
   "source": [
    "Para terminar, se traduce todo el Dataset al español y se carga nuevamente (con este se trabajará a lo largo del archivo)"
   ]
  },
  {
   "cell_type": "code",
   "execution_count": 42,
   "metadata": {},
   "outputs": [
    {
     "data": {
      "text/html": [
       "<div>\n",
       "<style scoped>\n",
       "    .dataframe tbody tr th:only-of-type {\n",
       "        vertical-align: middle;\n",
       "    }\n",
       "\n",
       "    .dataframe tbody tr th {\n",
       "        vertical-align: top;\n",
       "    }\n",
       "\n",
       "    .dataframe thead th {\n",
       "        text-align: right;\n",
       "    }\n",
       "</style>\n",
       "<table border=\"1\" class=\"dataframe\">\n",
       "  <thead>\n",
       "    <tr style=\"text-align: right;\">\n",
       "      <th></th>\n",
       "      <th>Genero</th>\n",
       "      <th>Edad</th>\n",
       "      <th>Historial_familiar</th>\n",
       "      <th>C_rico_calorias</th>\n",
       "      <th>F_Consumo_verduras</th>\n",
       "      <th>N_comidas</th>\n",
       "      <th>Meriendas</th>\n",
       "      <th>Fumador</th>\n",
       "      <th>Consumo_agua</th>\n",
       "      <th>Consumo_calorias</th>\n",
       "      <th>F_actvidad_fisica</th>\n",
       "      <th>T_uso_dispositivos</th>\n",
       "      <th>C_alcohol</th>\n",
       "      <th>Medio_transporte</th>\n",
       "      <th>Tipo_obesidad</th>\n",
       "    </tr>\n",
       "  </thead>\n",
       "  <tbody>\n",
       "    <tr>\n",
       "      <th>0</th>\n",
       "      <td>Femenino</td>\n",
       "      <td>21</td>\n",
       "      <td>Si</td>\n",
       "      <td>No</td>\n",
       "      <td>2</td>\n",
       "      <td>3</td>\n",
       "      <td>Algunas_veces</td>\n",
       "      <td>No</td>\n",
       "      <td>2.00</td>\n",
       "      <td>No</td>\n",
       "      <td>0.00</td>\n",
       "      <td>1.00</td>\n",
       "      <td>No</td>\n",
       "      <td>Transporte_Publico</td>\n",
       "      <td>Peso_normal</td>\n",
       "    </tr>\n",
       "    <tr>\n",
       "      <th>1</th>\n",
       "      <td>Femenino</td>\n",
       "      <td>21</td>\n",
       "      <td>Si</td>\n",
       "      <td>No</td>\n",
       "      <td>3</td>\n",
       "      <td>3</td>\n",
       "      <td>Algunas_veces</td>\n",
       "      <td>Si</td>\n",
       "      <td>3.00</td>\n",
       "      <td>Si</td>\n",
       "      <td>3.00</td>\n",
       "      <td>0.00</td>\n",
       "      <td>Algunas_veces</td>\n",
       "      <td>Transporte_Publico</td>\n",
       "      <td>Peso_normal</td>\n",
       "    </tr>\n",
       "    <tr>\n",
       "      <th>2</th>\n",
       "      <td>Masculino</td>\n",
       "      <td>23</td>\n",
       "      <td>Si</td>\n",
       "      <td>No</td>\n",
       "      <td>2</td>\n",
       "      <td>3</td>\n",
       "      <td>Algunas_veces</td>\n",
       "      <td>No</td>\n",
       "      <td>2.00</td>\n",
       "      <td>No</td>\n",
       "      <td>2.00</td>\n",
       "      <td>1.00</td>\n",
       "      <td>Frecuentemente</td>\n",
       "      <td>Transporte_Publico</td>\n",
       "      <td>Peso_normal</td>\n",
       "    </tr>\n",
       "    <tr>\n",
       "      <th>3</th>\n",
       "      <td>Masculino</td>\n",
       "      <td>27</td>\n",
       "      <td>No</td>\n",
       "      <td>No</td>\n",
       "      <td>3</td>\n",
       "      <td>3</td>\n",
       "      <td>Algunas_veces</td>\n",
       "      <td>No</td>\n",
       "      <td>2.00</td>\n",
       "      <td>No</td>\n",
       "      <td>2.00</td>\n",
       "      <td>0.00</td>\n",
       "      <td>Frecuentemente</td>\n",
       "      <td>Caminar</td>\n",
       "      <td>Sobrepeso_Nivel_I</td>\n",
       "    </tr>\n",
       "    <tr>\n",
       "      <th>4</th>\n",
       "      <td>Masculino</td>\n",
       "      <td>22</td>\n",
       "      <td>No</td>\n",
       "      <td>No</td>\n",
       "      <td>2</td>\n",
       "      <td>1</td>\n",
       "      <td>Algunas_veces</td>\n",
       "      <td>No</td>\n",
       "      <td>2.00</td>\n",
       "      <td>No</td>\n",
       "      <td>0.00</td>\n",
       "      <td>0.00</td>\n",
       "      <td>Algunas_veces</td>\n",
       "      <td>Transporte_Publico</td>\n",
       "      <td>Sobrepeso_Nivel_II</td>\n",
       "    </tr>\n",
       "    <tr>\n",
       "      <th>...</th>\n",
       "      <td>...</td>\n",
       "      <td>...</td>\n",
       "      <td>...</td>\n",
       "      <td>...</td>\n",
       "      <td>...</td>\n",
       "      <td>...</td>\n",
       "      <td>...</td>\n",
       "      <td>...</td>\n",
       "      <td>...</td>\n",
       "      <td>...</td>\n",
       "      <td>...</td>\n",
       "      <td>...</td>\n",
       "      <td>...</td>\n",
       "      <td>...</td>\n",
       "      <td>...</td>\n",
       "    </tr>\n",
       "    <tr>\n",
       "      <th>2106</th>\n",
       "      <td>Femenino</td>\n",
       "      <td>21</td>\n",
       "      <td>Si</td>\n",
       "      <td>Si</td>\n",
       "      <td>3</td>\n",
       "      <td>3</td>\n",
       "      <td>Algunas_veces</td>\n",
       "      <td>No</td>\n",
       "      <td>1.73</td>\n",
       "      <td>No</td>\n",
       "      <td>1.68</td>\n",
       "      <td>0.91</td>\n",
       "      <td>Algunas_veces</td>\n",
       "      <td>Transporte_Publico</td>\n",
       "      <td>Obesidad_Tipo_III</td>\n",
       "    </tr>\n",
       "    <tr>\n",
       "      <th>2107</th>\n",
       "      <td>Femenino</td>\n",
       "      <td>22</td>\n",
       "      <td>Si</td>\n",
       "      <td>Si</td>\n",
       "      <td>3</td>\n",
       "      <td>3</td>\n",
       "      <td>Algunas_veces</td>\n",
       "      <td>No</td>\n",
       "      <td>2.01</td>\n",
       "      <td>No</td>\n",
       "      <td>1.34</td>\n",
       "      <td>0.60</td>\n",
       "      <td>Algunas_veces</td>\n",
       "      <td>Transporte_Publico</td>\n",
       "      <td>Obesidad_Tipo_III</td>\n",
       "    </tr>\n",
       "    <tr>\n",
       "      <th>2108</th>\n",
       "      <td>Femenino</td>\n",
       "      <td>23</td>\n",
       "      <td>Si</td>\n",
       "      <td>Si</td>\n",
       "      <td>3</td>\n",
       "      <td>3</td>\n",
       "      <td>Algunas_veces</td>\n",
       "      <td>No</td>\n",
       "      <td>2.05</td>\n",
       "      <td>No</td>\n",
       "      <td>1.41</td>\n",
       "      <td>0.65</td>\n",
       "      <td>Algunas_veces</td>\n",
       "      <td>Transporte_Publico</td>\n",
       "      <td>Obesidad_Tipo_III</td>\n",
       "    </tr>\n",
       "    <tr>\n",
       "      <th>2109</th>\n",
       "      <td>Femenino</td>\n",
       "      <td>24</td>\n",
       "      <td>Si</td>\n",
       "      <td>Si</td>\n",
       "      <td>3</td>\n",
       "      <td>3</td>\n",
       "      <td>Algunas_veces</td>\n",
       "      <td>No</td>\n",
       "      <td>2.85</td>\n",
       "      <td>No</td>\n",
       "      <td>1.14</td>\n",
       "      <td>0.59</td>\n",
       "      <td>Algunas_veces</td>\n",
       "      <td>Transporte_Publico</td>\n",
       "      <td>Obesidad_Tipo_III</td>\n",
       "    </tr>\n",
       "    <tr>\n",
       "      <th>2110</th>\n",
       "      <td>Femenino</td>\n",
       "      <td>24</td>\n",
       "      <td>Si</td>\n",
       "      <td>Si</td>\n",
       "      <td>3</td>\n",
       "      <td>3</td>\n",
       "      <td>Algunas_veces</td>\n",
       "      <td>No</td>\n",
       "      <td>2.86</td>\n",
       "      <td>No</td>\n",
       "      <td>1.03</td>\n",
       "      <td>0.71</td>\n",
       "      <td>Algunas_veces</td>\n",
       "      <td>Transporte_Publico</td>\n",
       "      <td>Obesidad_Tipo_III</td>\n",
       "    </tr>\n",
       "  </tbody>\n",
       "</table>\n",
       "<p>2111 rows × 15 columns</p>\n",
       "</div>"
      ],
      "text/plain": [
       "         Genero  Edad Historial_familiar C_rico_calorias  F_Consumo_verduras  \\\n",
       "0      Femenino    21                 Si              No                   2   \n",
       "1      Femenino    21                 Si              No                   3   \n",
       "2     Masculino    23                 Si              No                   2   \n",
       "3     Masculino    27                 No              No                   3   \n",
       "4     Masculino    22                 No              No                   2   \n",
       "...         ...   ...                ...             ...                 ...   \n",
       "2106   Femenino    21                 Si              Si                   3   \n",
       "2107   Femenino    22                 Si              Si                   3   \n",
       "2108   Femenino    23                 Si              Si                   3   \n",
       "2109   Femenino    24                 Si              Si                   3   \n",
       "2110   Femenino    24                 Si              Si                   3   \n",
       "\n",
       "      N_comidas      Meriendas Fumador  Consumo_agua Consumo_calorias  \\\n",
       "0             3  Algunas_veces      No          2.00               No   \n",
       "1             3  Algunas_veces      Si          3.00               Si   \n",
       "2             3  Algunas_veces      No          2.00               No   \n",
       "3             3  Algunas_veces      No          2.00               No   \n",
       "4             1  Algunas_veces      No          2.00               No   \n",
       "...         ...            ...     ...           ...              ...   \n",
       "2106          3  Algunas_veces      No          1.73               No   \n",
       "2107          3  Algunas_veces      No          2.01               No   \n",
       "2108          3  Algunas_veces      No          2.05               No   \n",
       "2109          3  Algunas_veces      No          2.85               No   \n",
       "2110          3  Algunas_veces      No          2.86               No   \n",
       "\n",
       "      F_actvidad_fisica  T_uso_dispositivos       C_alcohol  \\\n",
       "0                  0.00                1.00              No   \n",
       "1                  3.00                0.00   Algunas_veces   \n",
       "2                  2.00                1.00  Frecuentemente   \n",
       "3                  2.00                0.00  Frecuentemente   \n",
       "4                  0.00                0.00   Algunas_veces   \n",
       "...                 ...                 ...             ...   \n",
       "2106               1.68                0.91   Algunas_veces   \n",
       "2107               1.34                0.60   Algunas_veces   \n",
       "2108               1.41                0.65   Algunas_veces   \n",
       "2109               1.14                0.59   Algunas_veces   \n",
       "2110               1.03                0.71   Algunas_veces   \n",
       "\n",
       "        Medio_transporte       Tipo_obesidad  \n",
       "0     Transporte_Publico         Peso_normal  \n",
       "1     Transporte_Publico         Peso_normal  \n",
       "2     Transporte_Publico         Peso_normal  \n",
       "3                Caminar   Sobrepeso_Nivel_I  \n",
       "4     Transporte_Publico  Sobrepeso_Nivel_II  \n",
       "...                  ...                 ...  \n",
       "2106  Transporte_Publico   Obesidad_Tipo_III  \n",
       "2107  Transporte_Publico   Obesidad_Tipo_III  \n",
       "2108  Transporte_Publico   Obesidad_Tipo_III  \n",
       "2109  Transporte_Publico   Obesidad_Tipo_III  \n",
       "2110  Transporte_Publico   Obesidad_Tipo_III  \n",
       "\n",
       "[2111 rows x 15 columns]"
      ]
     },
     "execution_count": 42,
     "metadata": {},
     "output_type": "execute_result"
    }
   ],
   "source": [
    "df = pd.read_csv('ObesityDataNew.csv')\n",
    "df"
   ]
  },
  {
   "cell_type": "code",
   "execution_count": 41,
   "metadata": {},
   "outputs": [],
   "source": [
    "#Genero -> genero\n",
    "#Edad  -> edad\n",
    "#Altura -> altura\n",
    "#Anchura -> anchura o peso (debe ser peso) \n",
    "#Historial_familiar -> si la familia sufre de sobre peso (es una valor boleano osea true o false)\n",
    "#C_rico_calorias  -> Consumo frecuente de alimentos ricos en calorías\n",
    "#F_Consumo_verduras -> Frecuencia de consumo de verduras\n",
    "#N_comidas -> Número de comidas principales o numero de comidad al dia\n",
    "#Meriendas -> Consumo de alimentos entre comidas.\n",
    "#Fumador -> si fuma(respuesta verdadera o falso, osea un valor booleano)\n",
    "#Consumo_agua -> consumo de agua al dia\n",
    "#Consumo_calorias -> seguimiento de consumo de calorias (osea si sigues tu consumo de calorias, es si o no osea un valor booleano\n",
    "#F_actvidad_fisica -> frecuencia de actividad fisica\n",
    "#T_uso_dispositivos -> tiempo de uso de dispositivos electronicos\n",
    "#C_alcohol -> si consume alcoho(no, algunas veces, frecuenteente o siempre)\n",
    "#Medio_transporte -> transporte utilizado(automovil, motocicleta, bicicleta, transporte_publico, caminando)\n",
    "#NObeyesdad  -> este valor se crea en base a los demas y consta de lo siguiente (peso_insuficiente, peso_normal, sobrepeso_nivel1, sobrepeso_nivel2, obesidad_tipo1, obesidad_tipo2, obesidad_tipo3 )"
   ]
  },
  {
   "cell_type": "markdown",
   "metadata": {},
   "source": [
    "### Identificamos si hay algun valor null en la Dataset"
   ]
  },
  {
   "cell_type": "code",
   "execution_count": 6,
   "metadata": {},
   "outputs": [
    {
     "data": {
      "text/plain": [
       "Genero                0\n",
       "Edad                  0\n",
       "Historial_familiar    0\n",
       "C_rico_calorias       0\n",
       "F_Consumo_verduras    0\n",
       "N_comidas             0\n",
       "Meriendas             0\n",
       "Fumador               0\n",
       "Consumo_agua          0\n",
       "Consumo_calorias      0\n",
       "F_actvidad_fisica     0\n",
       "T_uso_dispositivos    0\n",
       "C_alcohol             0\n",
       "Medio_transporte      0\n",
       "Tipo_obesidad         0\n",
       "dtype: int64"
      ]
     },
     "execution_count": 6,
     "metadata": {},
     "output_type": "execute_result"
    }
   ],
   "source": [
    "df.isnull().sum()"
   ]
  },
  {
   "cell_type": "markdown",
   "metadata": {},
   "source": [
    "Como se ve en la sumatoria de cada fila no hay Null"
   ]
  },
  {
   "cell_type": "markdown",
   "metadata": {},
   "source": [
    "### Aqui verificamos si en cada una de la filas no numericas mantienen los datos establecidos y rectificar si no tienen Outliers"
   ]
  },
  {
   "cell_type": "code",
   "execution_count": 8,
   "metadata": {},
   "outputs": [
    {
     "name": "stdout",
     "output_type": "stream",
     "text": [
      "Historial_familiar\n"
     ]
    },
    {
     "data": {
      "text/plain": [
       "(2111, None)"
      ]
     },
     "execution_count": 8,
     "metadata": {},
     "output_type": "execute_result"
    }
   ],
   "source": [
    "df['Historial_familiar'].isin(['Si', 'No']).sum(), print(\"Historial_familiar\")"
   ]
  },
  {
   "cell_type": "code",
   "execution_count": 9,
   "metadata": {},
   "outputs": [
    {
     "name": "stdout",
     "output_type": "stream",
     "text": [
      "Genero\n"
     ]
    },
    {
     "data": {
      "text/plain": [
       "(2111, None)"
      ]
     },
     "execution_count": 9,
     "metadata": {},
     "output_type": "execute_result"
    }
   ],
   "source": [
    "df['Genero'].isin(['Femenino', 'Masculino']).sum(), print(\"Genero\")"
   ]
  },
  {
   "cell_type": "code",
   "execution_count": 10,
   "metadata": {},
   "outputs": [
    {
     "name": "stdout",
     "output_type": "stream",
     "text": [
      "C_rico_calorias\n"
     ]
    },
    {
     "data": {
      "text/plain": [
       "(2111, None)"
      ]
     },
     "execution_count": 10,
     "metadata": {},
     "output_type": "execute_result"
    }
   ],
   "source": [
    "df['C_rico_calorias'].isin(['Si', 'No']).sum(), print(\"C_rico_calorias\")"
   ]
  },
  {
   "cell_type": "code",
   "execution_count": 11,
   "metadata": {},
   "outputs": [
    {
     "name": "stdout",
     "output_type": "stream",
     "text": [
      "Meriendas\n"
     ]
    },
    {
     "data": {
      "text/plain": [
       "(1869, None)"
      ]
     },
     "execution_count": 11,
     "metadata": {},
     "output_type": "execute_result"
    }
   ],
   "source": [
    "df['Meriendas'].isin(['No','Algunas_veces', 'frecuentemente', 'Siempre']).sum(), print(\"Meriendas\")"
   ]
  },
  {
   "cell_type": "code",
   "execution_count": 12,
   "metadata": {},
   "outputs": [
    {
     "name": "stdout",
     "output_type": "stream",
     "text": [
      "Fumador\n"
     ]
    },
    {
     "data": {
      "text/plain": [
       "(2111, None)"
      ]
     },
     "execution_count": 12,
     "metadata": {},
     "output_type": "execute_result"
    }
   ],
   "source": [
    "df['Fumador'].isin(['Si', 'No']).sum(), print(\"Fumador\")"
   ]
  },
  {
   "cell_type": "code",
   "execution_count": 14,
   "metadata": {},
   "outputs": [
    {
     "name": "stdout",
     "output_type": "stream",
     "text": [
      "Consumo_calorias\n"
     ]
    },
    {
     "data": {
      "text/plain": [
       "(2111, None)"
      ]
     },
     "execution_count": 14,
     "metadata": {},
     "output_type": "execute_result"
    }
   ],
   "source": [
    "df['Consumo_calorias'].isin(['Si', 'No']).sum(), print(\"Consumo_calorias\")"
   ]
  },
  {
   "cell_type": "code",
   "execution_count": 15,
   "metadata": {},
   "outputs": [
    {
     "name": "stdout",
     "output_type": "stream",
     "text": [
      "C_alcohol\n"
     ]
    },
    {
     "data": {
      "text/plain": [
       "(2111, None)"
      ]
     },
     "execution_count": 15,
     "metadata": {},
     "output_type": "execute_result"
    }
   ],
   "source": [
    "df['C_alcohol'].isin(['No', 'Algunas_veces', 'Frecuentemente', 'Siempre']).sum(), print(\"C_alcohol\")"
   ]
  },
  {
   "cell_type": "code",
   "execution_count": 19,
   "metadata": {},
   "outputs": [
    {
     "name": "stdout",
     "output_type": "stream",
     "text": [
      "Medio_transporte\n"
     ]
    },
    {
     "data": {
      "text/plain": [
       "(2111, None)"
      ]
     },
     "execution_count": 19,
     "metadata": {},
     "output_type": "execute_result"
    }
   ],
   "source": [
    "df['Medio_transporte'].isin(['Automovil', 'Moto', 'Bicicleta', 'Transporte_Publico', 'Caminar']).sum(), print(\"Medio_transporte\")"
   ]
  },
  {
   "cell_type": "code",
   "execution_count": 23,
   "metadata": {},
   "outputs": [
    {
     "name": "stdout",
     "output_type": "stream",
     "text": [
      "NObeyesdad\n"
     ]
    },
    {
     "data": {
      "text/plain": [
       "(2111, None)"
      ]
     },
     "execution_count": 23,
     "metadata": {},
     "output_type": "execute_result"
    }
   ],
   "source": [
    "df['Tipo_obesidad'].isin(['Peso_normal', 'Sobrepeso_Nivel_I', 'Sobrepeso_Nivel_II', 'Peso_insuficiente', 'Obesidad_Tipo_II'\n",
    ", 'Obesidad_Tipo_III', 'Obesidad_Tipo_I']).sum(), print(\"NObeyesdad\")"
   ]
  },
  {
   "cell_type": "markdown",
   "metadata": {},
   "source": [
    "### Identificamos los tipos numericos o float que se encuentren en el Dataset"
   ]
  },
  {
   "cell_type": "code",
   "execution_count": 24,
   "metadata": {},
   "outputs": [
    {
     "data": {
      "text/plain": [
       "Genero                 object\n",
       "Edad                    int64\n",
       "Historial_familiar     object\n",
       "C_rico_calorias        object\n",
       "F_Consumo_verduras      int64\n",
       "N_comidas               int64\n",
       "Meriendas              object\n",
       "Fumador                object\n",
       "Consumo_agua          float64\n",
       "Consumo_calorias       object\n",
       "F_actvidad_fisica     float64\n",
       "T_uso_dispositivos    float64\n",
       "C_alcohol              object\n",
       "Medio_transporte       object\n",
       "Tipo_obesidad          object\n",
       "dtype: object"
      ]
     },
     "execution_count": 24,
     "metadata": {},
     "output_type": "execute_result"
    }
   ],
   "source": [
    "df.dtypes"
   ]
  },
  {
   "cell_type": "markdown",
   "metadata": {},
   "source": [
    "**Edad, F_Consumo_verduras, N_comidas** son del tipo de dato **int64**, mientras que **Consumo_agua, F_actvidad_fisica y T_uso_dispositivos** son del tipo **float64**"
   ]
  },
  {
   "cell_type": "code",
   "execution_count": 25,
   "metadata": {},
   "outputs": [
    {
     "data": {
      "text/html": [
       "<div>\n",
       "<style scoped>\n",
       "    .dataframe tbody tr th:only-of-type {\n",
       "        vertical-align: middle;\n",
       "    }\n",
       "\n",
       "    .dataframe tbody tr th {\n",
       "        vertical-align: top;\n",
       "    }\n",
       "\n",
       "    .dataframe thead th {\n",
       "        text-align: right;\n",
       "    }\n",
       "</style>\n",
       "<table border=\"1\" class=\"dataframe\">\n",
       "  <thead>\n",
       "    <tr style=\"text-align: right;\">\n",
       "      <th></th>\n",
       "      <th>Genero</th>\n",
       "      <th>Edad</th>\n",
       "      <th>Historial_familiar</th>\n",
       "      <th>C_rico_calorias</th>\n",
       "      <th>F_Consumo_verduras</th>\n",
       "      <th>N_comidas</th>\n",
       "      <th>Meriendas</th>\n",
       "      <th>Fumador</th>\n",
       "      <th>Consumo_agua</th>\n",
       "      <th>Consumo_calorias</th>\n",
       "      <th>F_actvidad_fisica</th>\n",
       "      <th>T_uso_dispositivos</th>\n",
       "      <th>C_alcohol</th>\n",
       "      <th>Medio_transporte</th>\n",
       "      <th>Tipo_obesidad</th>\n",
       "    </tr>\n",
       "  </thead>\n",
       "  <tbody>\n",
       "    <tr>\n",
       "      <th>0</th>\n",
       "      <td>Femenino</td>\n",
       "      <td>21</td>\n",
       "      <td>Si</td>\n",
       "      <td>No</td>\n",
       "      <td>2</td>\n",
       "      <td>3</td>\n",
       "      <td>Algunas_veces</td>\n",
       "      <td>No</td>\n",
       "      <td>2.00</td>\n",
       "      <td>No</td>\n",
       "      <td>0.00</td>\n",
       "      <td>1.00</td>\n",
       "      <td>No</td>\n",
       "      <td>Transporte_Publico</td>\n",
       "      <td>Peso_normal</td>\n",
       "    </tr>\n",
       "    <tr>\n",
       "      <th>1</th>\n",
       "      <td>Femenino</td>\n",
       "      <td>21</td>\n",
       "      <td>Si</td>\n",
       "      <td>No</td>\n",
       "      <td>3</td>\n",
       "      <td>3</td>\n",
       "      <td>Algunas_veces</td>\n",
       "      <td>Si</td>\n",
       "      <td>3.00</td>\n",
       "      <td>Si</td>\n",
       "      <td>3.00</td>\n",
       "      <td>0.00</td>\n",
       "      <td>Algunas_veces</td>\n",
       "      <td>Transporte_Publico</td>\n",
       "      <td>Peso_normal</td>\n",
       "    </tr>\n",
       "    <tr>\n",
       "      <th>2</th>\n",
       "      <td>Masculino</td>\n",
       "      <td>23</td>\n",
       "      <td>Si</td>\n",
       "      <td>No</td>\n",
       "      <td>2</td>\n",
       "      <td>3</td>\n",
       "      <td>Algunas_veces</td>\n",
       "      <td>No</td>\n",
       "      <td>2.00</td>\n",
       "      <td>No</td>\n",
       "      <td>2.00</td>\n",
       "      <td>1.00</td>\n",
       "      <td>Frecuentemente</td>\n",
       "      <td>Transporte_Publico</td>\n",
       "      <td>Peso_normal</td>\n",
       "    </tr>\n",
       "    <tr>\n",
       "      <th>3</th>\n",
       "      <td>Masculino</td>\n",
       "      <td>27</td>\n",
       "      <td>No</td>\n",
       "      <td>No</td>\n",
       "      <td>3</td>\n",
       "      <td>3</td>\n",
       "      <td>Algunas_veces</td>\n",
       "      <td>No</td>\n",
       "      <td>2.00</td>\n",
       "      <td>No</td>\n",
       "      <td>2.00</td>\n",
       "      <td>0.00</td>\n",
       "      <td>Frecuentemente</td>\n",
       "      <td>Caminar</td>\n",
       "      <td>Sobrepeso_Nivel_I</td>\n",
       "    </tr>\n",
       "    <tr>\n",
       "      <th>4</th>\n",
       "      <td>Masculino</td>\n",
       "      <td>22</td>\n",
       "      <td>No</td>\n",
       "      <td>No</td>\n",
       "      <td>2</td>\n",
       "      <td>1</td>\n",
       "      <td>Algunas_veces</td>\n",
       "      <td>No</td>\n",
       "      <td>2.00</td>\n",
       "      <td>No</td>\n",
       "      <td>0.00</td>\n",
       "      <td>0.00</td>\n",
       "      <td>Algunas_veces</td>\n",
       "      <td>Transporte_Publico</td>\n",
       "      <td>Sobrepeso_Nivel_II</td>\n",
       "    </tr>\n",
       "    <tr>\n",
       "      <th>...</th>\n",
       "      <td>...</td>\n",
       "      <td>...</td>\n",
       "      <td>...</td>\n",
       "      <td>...</td>\n",
       "      <td>...</td>\n",
       "      <td>...</td>\n",
       "      <td>...</td>\n",
       "      <td>...</td>\n",
       "      <td>...</td>\n",
       "      <td>...</td>\n",
       "      <td>...</td>\n",
       "      <td>...</td>\n",
       "      <td>...</td>\n",
       "      <td>...</td>\n",
       "      <td>...</td>\n",
       "    </tr>\n",
       "    <tr>\n",
       "      <th>2106</th>\n",
       "      <td>Femenino</td>\n",
       "      <td>21</td>\n",
       "      <td>Si</td>\n",
       "      <td>Si</td>\n",
       "      <td>3</td>\n",
       "      <td>3</td>\n",
       "      <td>Algunas_veces</td>\n",
       "      <td>No</td>\n",
       "      <td>1.73</td>\n",
       "      <td>No</td>\n",
       "      <td>1.68</td>\n",
       "      <td>0.91</td>\n",
       "      <td>Algunas_veces</td>\n",
       "      <td>Transporte_Publico</td>\n",
       "      <td>Obesidad_Tipo_III</td>\n",
       "    </tr>\n",
       "    <tr>\n",
       "      <th>2107</th>\n",
       "      <td>Femenino</td>\n",
       "      <td>22</td>\n",
       "      <td>Si</td>\n",
       "      <td>Si</td>\n",
       "      <td>3</td>\n",
       "      <td>3</td>\n",
       "      <td>Algunas_veces</td>\n",
       "      <td>No</td>\n",
       "      <td>2.01</td>\n",
       "      <td>No</td>\n",
       "      <td>1.34</td>\n",
       "      <td>0.60</td>\n",
       "      <td>Algunas_veces</td>\n",
       "      <td>Transporte_Publico</td>\n",
       "      <td>Obesidad_Tipo_III</td>\n",
       "    </tr>\n",
       "    <tr>\n",
       "      <th>2108</th>\n",
       "      <td>Femenino</td>\n",
       "      <td>23</td>\n",
       "      <td>Si</td>\n",
       "      <td>Si</td>\n",
       "      <td>3</td>\n",
       "      <td>3</td>\n",
       "      <td>Algunas_veces</td>\n",
       "      <td>No</td>\n",
       "      <td>2.05</td>\n",
       "      <td>No</td>\n",
       "      <td>1.41</td>\n",
       "      <td>0.65</td>\n",
       "      <td>Algunas_veces</td>\n",
       "      <td>Transporte_Publico</td>\n",
       "      <td>Obesidad_Tipo_III</td>\n",
       "    </tr>\n",
       "    <tr>\n",
       "      <th>2109</th>\n",
       "      <td>Femenino</td>\n",
       "      <td>24</td>\n",
       "      <td>Si</td>\n",
       "      <td>Si</td>\n",
       "      <td>3</td>\n",
       "      <td>3</td>\n",
       "      <td>Algunas_veces</td>\n",
       "      <td>No</td>\n",
       "      <td>2.85</td>\n",
       "      <td>No</td>\n",
       "      <td>1.14</td>\n",
       "      <td>0.59</td>\n",
       "      <td>Algunas_veces</td>\n",
       "      <td>Transporte_Publico</td>\n",
       "      <td>Obesidad_Tipo_III</td>\n",
       "    </tr>\n",
       "    <tr>\n",
       "      <th>2110</th>\n",
       "      <td>Femenino</td>\n",
       "      <td>24</td>\n",
       "      <td>Si</td>\n",
       "      <td>Si</td>\n",
       "      <td>3</td>\n",
       "      <td>3</td>\n",
       "      <td>Algunas_veces</td>\n",
       "      <td>No</td>\n",
       "      <td>2.86</td>\n",
       "      <td>No</td>\n",
       "      <td>1.03</td>\n",
       "      <td>0.71</td>\n",
       "      <td>Algunas_veces</td>\n",
       "      <td>Transporte_Publico</td>\n",
       "      <td>Obesidad_Tipo_III</td>\n",
       "    </tr>\n",
       "  </tbody>\n",
       "</table>\n",
       "<p>2111 rows × 15 columns</p>\n",
       "</div>"
      ],
      "text/plain": [
       "         Genero  Edad Historial_familiar C_rico_calorias  F_Consumo_verduras  \\\n",
       "0      Femenino    21                 Si              No                   2   \n",
       "1      Femenino    21                 Si              No                   3   \n",
       "2     Masculino    23                 Si              No                   2   \n",
       "3     Masculino    27                 No              No                   3   \n",
       "4     Masculino    22                 No              No                   2   \n",
       "...         ...   ...                ...             ...                 ...   \n",
       "2106   Femenino    21                 Si              Si                   3   \n",
       "2107   Femenino    22                 Si              Si                   3   \n",
       "2108   Femenino    23                 Si              Si                   3   \n",
       "2109   Femenino    24                 Si              Si                   3   \n",
       "2110   Femenino    24                 Si              Si                   3   \n",
       "\n",
       "      N_comidas      Meriendas Fumador  Consumo_agua Consumo_calorias  \\\n",
       "0             3  Algunas_veces      No          2.00               No   \n",
       "1             3  Algunas_veces      Si          3.00               Si   \n",
       "2             3  Algunas_veces      No          2.00               No   \n",
       "3             3  Algunas_veces      No          2.00               No   \n",
       "4             1  Algunas_veces      No          2.00               No   \n",
       "...         ...            ...     ...           ...              ...   \n",
       "2106          3  Algunas_veces      No          1.73               No   \n",
       "2107          3  Algunas_veces      No          2.01               No   \n",
       "2108          3  Algunas_veces      No          2.05               No   \n",
       "2109          3  Algunas_veces      No          2.85               No   \n",
       "2110          3  Algunas_veces      No          2.86               No   \n",
       "\n",
       "      F_actvidad_fisica  T_uso_dispositivos       C_alcohol  \\\n",
       "0                  0.00                1.00              No   \n",
       "1                  3.00                0.00   Algunas_veces   \n",
       "2                  2.00                1.00  Frecuentemente   \n",
       "3                  2.00                0.00  Frecuentemente   \n",
       "4                  0.00                0.00   Algunas_veces   \n",
       "...                 ...                 ...             ...   \n",
       "2106               1.68                0.91   Algunas_veces   \n",
       "2107               1.34                0.60   Algunas_veces   \n",
       "2108               1.41                0.65   Algunas_veces   \n",
       "2109               1.14                0.59   Algunas_veces   \n",
       "2110               1.03                0.71   Algunas_veces   \n",
       "\n",
       "        Medio_transporte       Tipo_obesidad  \n",
       "0     Transporte_Publico         Peso_normal  \n",
       "1     Transporte_Publico         Peso_normal  \n",
       "2     Transporte_Publico         Peso_normal  \n",
       "3                Caminar   Sobrepeso_Nivel_I  \n",
       "4     Transporte_Publico  Sobrepeso_Nivel_II  \n",
       "...                  ...                 ...  \n",
       "2106  Transporte_Publico   Obesidad_Tipo_III  \n",
       "2107  Transporte_Publico   Obesidad_Tipo_III  \n",
       "2108  Transporte_Publico   Obesidad_Tipo_III  \n",
       "2109  Transporte_Publico   Obesidad_Tipo_III  \n",
       "2110  Transporte_Publico   Obesidad_Tipo_III  \n",
       "\n",
       "[2111 rows x 15 columns]"
      ]
     },
     "execution_count": 25,
     "metadata": {},
     "output_type": "execute_result"
    }
   ],
   "source": [
    "df"
   ]
  },
  {
   "cell_type": "markdown",
   "metadata": {},
   "source": [
    "También, podemos ver como se relacionan dos atributos y entender mejor el comportamiento de nuestra población, por ejemplo, analicemos la relación entre el género y la edad de las personas encuestadas, así como saber en qué edad es más propenso a sufrir de algún tipo de obesidad:  "
   ]
  },
  {
   "cell_type": "code",
   "execution_count": 45,
   "metadata": {},
   "outputs": [
    {
     "data": {
      "text/plain": [
       "<AxesSubplot: xlabel='Genero', ylabel='Edad'>"
      ]
     },
     "execution_count": 45,
     "metadata": {},
     "output_type": "execute_result"
    },
    {
     "data": {
      "image/png": "[encoded data removed]",
      "text/plain": [
       "<Figure size 640x480 with 1 Axes>"
      ]
     },
     "metadata": {},
     "output_type": "display_data"
    }
   ],
   "source": [
    "sns.violinplot(x=\"Genero\", y=\"Edad\", data=df, palette=[\"lightblue\", \"lightpink\"])"
   ]
  },
  {
   "cell_type": "markdown",
   "metadata": {},
   "source": [
    "**Conclusión:** La mayoría de las personas entrevistadas tienen una edad que esta alrededor de los 20 años, tanto para la población masculina como femenina."
   ]
  },
  {
   "cell_type": "code",
   "execution_count": 46,
   "metadata": {},
   "outputs": [
    {
     "data": {
      "text/plain": [
       "61"
      ]
     },
     "execution_count": 46,
     "metadata": {},
     "output_type": "execute_result"
    }
   ],
   "source": [
    "df['Edad'].max()"
   ]
  },
  {
   "cell_type": "code",
   "execution_count": 47,
   "metadata": {},
   "outputs": [
    {
     "data": {
      "text/plain": [
       "<AxesSubplot: xlabel='Edad', ylabel='Tipo_obesidad'>"
      ]
     },
     "execution_count": 47,
     "metadata": {},
     "output_type": "execute_result"
    },
    {
     "data": {
      "image/png": "[encoded data removed]",
      "text/plain": [
       "<Figure size 640x480 with 1 Axes>"
      ]
     },
     "metadata": {},
     "output_type": "display_data"
    }
   ],
   "source": [
    "sns.violinplot(x=\"Edad\", y=\"Tipo_obesidad\", data=df, palette=[\"lightblue\", \"lightpink\"])"
   ]
  },
  {
   "cell_type": "markdown",
   "metadata": {},
   "source": [
    "**Conclusión:** Las personas con edad entre los 15 y 30 años son las más propensas a sufrir de obesidad tipo III que es la más riesgosa de todas, asimismo la mayoría de las personas (no todas) con peso insuficiente se encuentran en el intervalo entre los 15 a 25 años."
   ]
  },
  {
   "cell_type": "code",
   "execution_count": 48,
   "metadata": {},
   "outputs": [
    {
     "data": {
      "text/plain": [
       "<AxesSubplot: xlabel='Historial_familiar', ylabel='Count'>"
      ]
     },
     "execution_count": 48,
     "metadata": {},
     "output_type": "execute_result"
    },
    {
     "data": {
      "image/png": "[encoded data removed]",
      "text/plain": [
       "<Figure size 640x480 with 1 Axes>"
      ]
     },
     "metadata": {},
     "output_type": "display_data"
    }
   ],
   "source": [
    "sns.histplot(df['Historial_familiar'], color='coral')"
   ]
  },
  {
   "cell_type": "markdown",
   "metadata": {},
   "source": [
    "**Conclusión:** La mayoría de las personas reportan tener en su familia un familiar con exceso de peso, por tanto, se puede inferir que esta enfermedad puede ser transmitida por genética y por tanto el hecho de tener un familiar con sobre peso puede aumentar la probabilidad de sufrir de obesidad."
   ]
  },
  {
   "cell_type": "code",
   "execution_count": 49,
   "metadata": {},
   "outputs": [
    {
     "data": {
      "text/plain": [
       "<AxesSubplot: xlabel='Tipo_obesidad', ylabel='Count'>"
      ]
     },
     "execution_count": 49,
     "metadata": {},
     "output_type": "execute_result"
    },
    {
     "data": {
      "image/png": "[encoded data removed]",
      "text/plain": [
       "<Figure size 1400x600 with 1 Axes>"
      ]
     },
     "metadata": {},
     "output_type": "display_data"
    }
   ],
   "source": [
    "sns.set(rc = {'figure.figsize':(14,6)})\n",
    "sns.histplot(df['Tipo_obesidad'], color='red')"
   ]
  },
  {
   "cell_type": "markdown",
   "metadata": {},
   "source": [
    "## Seleccionando modelos de predicción y entrenandolos"
   ]
  },
  {
   "cell_type": "code",
   "execution_count": 97,
   "metadata": {},
   "outputs": [],
   "source": [
    "x = pd.get_dummies(df[['Edad', 'F_Consumo_verduras', 'N_comidas', 'F_actvidad_fisica', 'Consumo_agua']].copy())\n",
    "y  = df[['Tipo_obesidad']].copy()\n",
    "\n",
    "X_train, X_test, y_train, y_test = train_test_split(x,y,test_size=0.2)\n"
   ]
  },
  {
   "cell_type": "markdown",
   "metadata": {},
   "source": [
    "Comprobamos que la cantidad de datos de entrenamiento y prueba sea igual al total global (2111 muestras)"
   ]
  },
  {
   "cell_type": "code",
   "execution_count": 98,
   "metadata": {},
   "outputs": [
    {
     "data": {
      "text/plain": [
       "2111"
      ]
     },
     "execution_count": 98,
     "metadata": {},
     "output_type": "execute_result"
    }
   ],
   "source": [
    "len(X_train) + len(X_test)"
   ]
  },
  {
   "cell_type": "markdown",
   "metadata": {},
   "source": [
    "Aplicamos el primer modelo **RandomForest** y vemos su desempleño"
   ]
  },
  {
   "cell_type": "code",
   "execution_count": 111,
   "metadata": {},
   "outputs": [
    {
     "name": "stderr",
     "output_type": "stream",
     "text": [
      "C:\\Users\\USUARIO\\AppData\\Local\\Temp\\ipykernel_976\\1792019473.py:2: DataConversionWarning: A column-vector y was passed when a 1d array was expected. Please change the shape of y to (n_samples,), for example using ravel().\n",
      "  random.fit(X_train, y_train)\n"
     ]
    },
    {
     "name": "stdout",
     "output_type": "stream",
     "text": [
      "El desempeño del modelo en accuracy es de : 0.7304964539007093\n"
     ]
    }
   ],
   "source": [
    "random = RandomForestClassifier()\n",
    "random.fit(X_train, y_train)\n",
    "y_pred = random.predict(X_test)\n",
    "print('El desempeño del modelo en accuracy es de :', accuracy_score(y_test,y_pred))"
   ]
  },
  {
   "cell_type": "code",
   "execution_count": 112,
   "metadata": {},
   "outputs": [
    {
     "name": "stdout",
     "output_type": "stream",
     "text": [
      "                    precision    recall  f1-score   support\n",
      "\n",
      "   Obesidad_Tipo_I       0.65      0.70      0.68        70\n",
      "  Obesidad_Tipo_II       0.89      0.89      0.89        62\n",
      " Obesidad_Tipo_III       0.92      1.00      0.96        65\n",
      " Peso_insuficiente       0.69      0.73      0.71        60\n",
      "       Peso_normal       0.60      0.73      0.66        44\n",
      " Sobrepeso_Nivel_I       0.67      0.55      0.60        66\n",
      "Sobrepeso_Nivel_II       0.64      0.50      0.56        56\n",
      "\n",
      "          accuracy                           0.73       423\n",
      "         macro avg       0.72      0.73      0.72       423\n",
      "      weighted avg       0.73      0.73      0.73       423\n",
      "\n"
     ]
    }
   ],
   "source": [
    "print(classification_report(y_test, y_pred))"
   ]
  },
  {
   "cell_type": "code",
   "execution_count": 101,
   "metadata": {},
   "outputs": [
    {
     "data": {
      "image/png": "[encoded data removed]",
      "text/plain": [
       "<Figure size 1400x600 with 2 Axes>"
      ]
     },
     "metadata": {},
     "output_type": "display_data"
    }
   ],
   "source": [
    "titles_options = [\n",
    "    (\"Matriz de Confusión\", None)\n",
    "]\n",
    "for title, normalize in titles_options:\n",
    "    disp = ConfusionMatrixDisplay.from_estimator(\n",
    "        random,\n",
    "        X_test,\n",
    "        y_test,\n",
    "        display_labels=df['Tipo_obesidad'].unique(),\n",
    "        cmap=plt.cm.BuPu,\n",
    "        normalize=normalize,\n",
    "    )\n",
    "    disp.ax_.set_title(title)\n",
    "\n",
    "\n",
    "plt.show()"
   ]
  },
  {
   "cell_type": "markdown",
   "metadata": {},
   "source": [
    "Aplicando el modelo **HistGradientBoosting**"
   ]
  },
  {
   "cell_type": "code",
   "execution_count": 113,
   "metadata": {},
   "outputs": [
    {
     "name": "stderr",
     "output_type": "stream",
     "text": [
      "c:\\Users\\USUARIO\\Desktop\\web_app\\env\\lib\\site-packages\\sklearn\\utils\\validation.py:1141: DataConversionWarning: A column-vector y was passed when a 1d array was expected. Please change the shape of y to (n_samples, ), for example using ravel().\n",
      "  y = column_or_1d(y, warn=True)\n"
     ]
    },
    {
     "data": {
      "text/plain": [
       "0.7092198581560284"
      ]
     },
     "execution_count": 113,
     "metadata": {},
     "output_type": "execute_result"
    }
   ],
   "source": [
    "HistGradientBoosting = HistGradientBoostingClassifier(max_iter=100).fit(X_train, y_train)\n",
    "HistGradientBoosting.score(X_test, y_test)"
   ]
  },
  {
   "cell_type": "code",
   "execution_count": 114,
   "metadata": {},
   "outputs": [
    {
     "name": "stdout",
     "output_type": "stream",
     "text": [
      "                    precision    recall  f1-score   support\n",
      "\n",
      "   Obesidad_Tipo_I       0.65      0.70      0.68        70\n",
      "  Obesidad_Tipo_II       0.89      0.89      0.89        62\n",
      " Obesidad_Tipo_III       0.92      1.00      0.96        65\n",
      " Peso_insuficiente       0.69      0.73      0.71        60\n",
      "       Peso_normal       0.60      0.73      0.66        44\n",
      " Sobrepeso_Nivel_I       0.67      0.55      0.60        66\n",
      "Sobrepeso_Nivel_II       0.64      0.50      0.56        56\n",
      "\n",
      "          accuracy                           0.73       423\n",
      "         macro avg       0.72      0.73      0.72       423\n",
      "      weighted avg       0.73      0.73      0.73       423\n",
      "\n"
     ]
    }
   ],
   "source": [
    "print(classification_report(y_test, y_pred))"
   ]
  },
  {
   "cell_type": "code",
   "execution_count": 115,
   "metadata": {},
   "outputs": [
    {
     "data": {
      "image/png": "[encoded data removed]",
      "text/plain": [
       "<Figure size 1400x600 with 2 Axes>"
      ]
     },
     "metadata": {},
     "output_type": "display_data"
    }
   ],
   "source": [
    "titles_options = [\n",
    "    (\"Matriz de Confusión\", None)\n",
    "]\n",
    "for title, normalize in titles_options:\n",
    "    disp = ConfusionMatrixDisplay.from_estimator(\n",
    "        HistGradientBoosting,\n",
    "        X_test,\n",
    "        y_test,\n",
    "        display_labels=df['Tipo_obesidad'].unique(),\n",
    "        cmap=plt.cm.BuPu,\n",
    "        normalize=normalize,\n",
    "    )\n",
    "    disp.ax_.set_title(title)\n",
    "\n",
    "\n",
    "plt.show()"
   ]
  },
  {
   "cell_type": "markdown",
   "metadata": {},
   "source": [
    "Aplicado el modelo **DecisionTree**, tenemos:"
   ]
  },
  {
   "cell_type": "code",
   "execution_count": 116,
   "metadata": {},
   "outputs": [
    {
     "name": "stdout",
     "output_type": "stream",
     "text": [
      "El desempeño del modelo en accuracy es de : 0.6784869976359338\n"
     ]
    }
   ],
   "source": [
    "DecisionTree = tree.DecisionTreeClassifier()\n",
    "DecisionTree = DecisionTree.fit(X_train, y_train)\n",
    "y_pred = DecisionTree.predict(X_test)\n",
    "print('El desempeño del modelo en accuracy es de :', accuracy_score(y_test,y_pred))"
   ]
  },
  {
   "cell_type": "code",
   "execution_count": 117,
   "metadata": {},
   "outputs": [
    {
     "name": "stdout",
     "output_type": "stream",
     "text": [
      "                    precision    recall  f1-score   support\n",
      "\n",
      "   Obesidad_Tipo_I       0.55      0.59      0.57        70\n",
      "  Obesidad_Tipo_II       0.90      0.76      0.82        62\n",
      " Obesidad_Tipo_III       0.93      0.98      0.96        65\n",
      " Peso_insuficiente       0.64      0.73      0.68        60\n",
      "       Peso_normal       0.52      0.68      0.59        44\n",
      " Sobrepeso_Nivel_I       0.60      0.55      0.57        66\n",
      "Sobrepeso_Nivel_II       0.61      0.45      0.52        56\n",
      "\n",
      "          accuracy                           0.68       423\n",
      "         macro avg       0.68      0.68      0.67       423\n",
      "      weighted avg       0.69      0.68      0.68       423\n",
      "\n"
     ]
    }
   ],
   "source": [
    "print(classification_report(y_test, y_pred))"
   ]
  },
  {
   "cell_type": "code",
   "execution_count": 118,
   "metadata": {},
   "outputs": [
    {
     "data": {
      "image/png": "[encoded data removed]",
      "text/plain": [
       "<Figure size 1400x600 with 2 Axes>"
      ]
     },
     "metadata": {},
     "output_type": "display_data"
    }
   ],
   "source": [
    "titles_options = [\n",
    "    (\"Matriz de Confusión\", None)\n",
    "]\n",
    "for title, normalize in titles_options:\n",
    "    disp = ConfusionMatrixDisplay.from_estimator(\n",
    "        DecisionTree,\n",
    "        X_test,\n",
    "        y_test,\n",
    "        display_labels=df['Tipo_obesidad'].unique(),\n",
    "        cmap=plt.cm.BuPu,\n",
    "        normalize=normalize,\n",
    "    )\n",
    "    disp.ax_.set_title(title)\n",
    "\n",
    "\n",
    "plt.show()"
   ]
  },
  {
   "cell_type": "markdown",
   "metadata": {},
   "source": [
    "**Primeras Conclusiones**"
   ]
  },
  {
   "cell_type": "markdown",
   "metadata": {},
   "source": [
    "Al probar diversos modelos de aprendizaje supervisados, se aprecia que el nivel de precisión varía según el modelo utilizado, donde se puede evidenciar que las mejores predicciones son las realizadas por los modelos **Hist Gradient Boosting** y **Random Forest** con precisión del **71,8%** y **71,3%** respectivamente, asimismo el modelo que más se equivoca es **Decision Tree** con un porcentaje de precisión del **67,6%.** También, es importante mencionar que con base en la matriz de confusión la categoría que mejor es predecida (por los tres modelos) es la de **Sobre peso Nivel II** y la categoria con menos aciertos es **Obesidad tipo II**."
   ]
  },
  {
   "cell_type": "markdown",
   "metadata": {},
   "source": [
    "### Aumentando el número de parametros a los modelos"
   ]
  },
  {
   "cell_type": "code",
   "execution_count": 119,
   "metadata": {},
   "outputs": [
    {
     "name": "stderr",
     "output_type": "stream",
     "text": [
      "C:\\Users\\USUARIO\\AppData\\Local\\Temp\\ipykernel_976\\3640440317.py:2: DataConversionWarning: A column-vector y was passed when a 1d array was expected. Please change the shape of y to (n_samples,), for example using ravel().\n",
      "  RandomForest2.fit(X_train, y_train)\n"
     ]
    },
    {
     "name": "stdout",
     "output_type": "stream",
     "text": [
      "El desempeño del modelo en accuracy es de : 0.7328605200945626\n"
     ]
    }
   ],
   "source": [
    "RandomForest2 = RandomForestClassifier(n_estimators=1200, min_samples_split=4, random_state=0)\n",
    "RandomForest2.fit(X_train, y_train)\n",
    "y_pred = RandomForest2.predict(X_test)\n",
    "print('El desempeño del modelo en accuracy es de :', accuracy_score(y_test, y_pred))"
   ]
  },
  {
   "cell_type": "code",
   "execution_count": 120,
   "metadata": {},
   "outputs": [
    {
     "name": "stderr",
     "output_type": "stream",
     "text": [
      "c:\\Users\\USUARIO\\Desktop\\web_app\\env\\lib\\site-packages\\sklearn\\utils\\validation.py:1141: DataConversionWarning: A column-vector y was passed when a 1d array was expected. Please change the shape of y to (n_samples, ), for example using ravel().\n",
      "  y = column_or_1d(y, warn=True)\n"
     ]
    },
    {
     "name": "stdout",
     "output_type": "stream",
     "text": [
      "El desempeño del modelo en accuracy es de : 0.7210401891252955\n"
     ]
    }
   ],
   "source": [
    "HistGradientBoosting2 = HistGradientBoostingClassifier(max_iter=80, learning_rate=0.1, ).fit(X_train, y_train)\n",
    "y_pred = HistGradientBoosting2.predict(X_test)\n",
    "print('El desempeño del modelo en accuracy es de :', accuracy_score(y_test, y_pred))"
   ]
  },
  {
   "cell_type": "markdown",
   "metadata": {},
   "source": [
    "#### ¿Qué tan correpta son las predicciones con los datos originales?"
   ]
  },
  {
   "cell_type": "code",
   "execution_count": 121,
   "metadata": {},
   "outputs": [
    {
     "name": "stderr",
     "output_type": "stream",
     "text": [
      "C:\\Users\\USUARIO\\AppData\\Local\\Temp\\ipykernel_976\\1820250464.py:2: DataConversionWarning: A column-vector y was passed when a 1d array was expected. Please change the shape of y to (n_samples,), for example using ravel().\n",
      "  RandomForest3.fit(x, y)\n"
     ]
    },
    {
     "name": "stdout",
     "output_type": "stream",
     "text": [
      "El desempeño del modelo en accuracy es de : 1.0\n"
     ]
    }
   ],
   "source": [
    "RandomForest3 = RandomForestClassifier()\n",
    "RandomForest3.fit(x, y)\n",
    "y_pred = RandomForest3.predict(x)\n",
    "print('El desempeño del modelo en accuracy es de :', accuracy_score(y,y))"
   ]
  },
  {
   "cell_type": "code",
   "execution_count": 122,
   "metadata": {},
   "outputs": [
    {
     "name": "stderr",
     "output_type": "stream",
     "text": [
      "c:\\Users\\USUARIO\\Desktop\\web_app\\env\\lib\\site-packages\\sklearn\\utils\\validation.py:1141: DataConversionWarning: A column-vector y was passed when a 1d array was expected. Please change the shape of y to (n_samples, ), for example using ravel().\n",
      "  y = column_or_1d(y, warn=True)\n"
     ]
    },
    {
     "data": {
      "text/plain": [
       "0.9478919943154903"
      ]
     },
     "execution_count": 122,
     "metadata": {},
     "output_type": "execute_result"
    }
   ],
   "source": [
    "HistGradientBoosting3 = HistGradientBoostingClassifier(max_iter=100).fit(x, y)\n",
    "HistGradientBoosting3.score(x, y)"
   ]
  },
  {
   "cell_type": "markdown",
   "metadata": {},
   "source": [
    "**Conclusión Proyecto**"
   ]
  },
  {
   "cell_type": "markdown",
   "metadata": {},
   "source": [
    "Al utilizar varios parámetros con la intención de aumentar la precisión de los modelos, se percibió que aunque existe una mejora en la predicción, aparentemente no es muy significativa, debido a que solo aumento un porcentaje con respecto a la predicción del modelo sin parámetros. \n",
    "Se utilizará el modelo de clasificación **Hist Gradient Boosting** para el desarrollo del Dashbord."
   ]
  },
  {
   "cell_type": "code",
   "execution_count": 127,
   "metadata": {},
   "outputs": [],
   "source": [
    "import pickle\n",
    "#with open('My_model.pkl','wb') as f:\n",
    "  #  pickle.dump(HistGradientBoosting,f)"
   ]
  }
 ],
 "metadata": {
  "kernelspec": {
   "display_name": "Python 3 (ipykernel)",
   "language": "python",
   "name": "python3"
  },
  "language_info": {
   "codemirror_mode": {
    "name": "ipython",
    "version": 3
   },
   "file_extension": ".py",
   "mimetype": "text/x-python",
   "name": "python",
   "nbconvert_exporter": "python",
   "pygments_lexer": "ipython3",
   "version": "3.9.12"
  },
  "vscode": {
   "interpreter": {
    "hash": "0ba6ab5a18b75c606d075598a767daad8c33e47130e8e6a77a1b5fb62c7af019"
   }
  }
 },
 "nbformat": 4,
 "nbformat_minor": 4
}
